{
  "nbformat": 4,
  "nbformat_minor": 0,
  "metadata": {
    "colab": {
      "provenance": []
    },
    "kernelspec": {
      "name": "python3",
      "display_name": "Python 3"
    },
    "language_info": {
      "name": "python"
    }
  },
  "cells": [
    {
      "cell_type": "markdown",
      "source": [
        "\n",
        "PYTHON BASIC Questions"
      ],
      "metadata": {
        "id": "OK_oNKa3SNVy"
      }
    },
    {
      "cell_type": "code",
      "execution_count": null,
      "metadata": {
        "id": "eLqls_BbD721"
      },
      "outputs": [],
      "source": []
    },
    {
      "cell_type": "markdown",
      "source": [
        "Q 1. What is Python, and why is it popular?\n",
        "\n",
        "Ans:--> Python is a high-level, interpreted programming language known for its simplicity and readability. It's popular because it's easy to learn, versatile, and has a huge support community with many libraries."
      ],
      "metadata": {
        "id": "mGp7RW58XJVS"
      }
    },
    {
      "cell_type": "markdown",
      "source": [
        "Q 2. What is an interpreter in Python?\n",
        "\n",
        "Ans:--> An interpreter reads Python code line by line and executes it directly, without needing to compile the whole program first."
      ],
      "metadata": {
        "id": "_NV8ea5JTewr"
      }
    },
    {
      "cell_type": "markdown",
      "source": [
        "Q 3. What are pre-defined keywords in Python?\n",
        "\n",
        "Ans:--> Keywords are reserved words in Python (like if, for, class, def) that have special meaning and can't be used for anything else."
      ],
      "metadata": {
        "id": "rZVq4KhSXxq9"
      }
    },
    {
      "cell_type": "markdown",
      "source": [
        "Q 4. Can keywords be used as variable names?\n",
        "\n",
        "Ans:--> No, keywords cannot be used as variable names because they are reserved for Python's syntax rules."
      ],
      "metadata": {
        "id": "8lAuxCvJYkDy"
      }
    },
    {
      "cell_type": "markdown",
      "source": [
        "Q 5. What is mutability in Python?\n",
        "\n",
        "Ans:--> Mutability means whether or not an object’s value can be changed after it’s created. Mutable = can change, Immutable = cannot change."
      ],
      "metadata": {
        "id": "Q4leLAi7Yzlv"
      }
    },
    {
      "cell_type": "markdown",
      "source": [
        "Q 6. Why are lists mutable, but tuples are immutable?\n",
        "\n",
        "Ans:--> Lists are designed to be flexible and editable (add, remove, change elements), while tuples are meant to be fixed collections, often used for constant data that shouldn't change."
      ],
      "metadata": {
        "id": "xW9ULE5GZWN0"
      }
    },
    {
      "cell_type": "markdown",
      "source": [
        "Q 7. What is the difference between == and is operators in Python?\n",
        "\n",
        "Ans:-->\n",
        "•\t== checks if two values are equal.\n",
        "•\tis checks if two variables point to the same object in memory."
      ],
      "metadata": {
        "id": "DXFUWryVZkgw"
      }
    },
    {
      "cell_type": "markdown",
      "source": [
        "Q 8. What are logical operators in Python?\n",
        "\n",
        "Ans:--> Logical operators combine boolean expressions:\n",
        "•\tand (both must be true)\n",
        "•\tor (at least one must be true)\n",
        "•\tnot (reverses the truth value)"
      ],
      "metadata": {
        "id": "sFcZ0lCtaibJ"
      }
    },
    {
      "cell_type": "markdown",
      "source": [
        "Q 9. What is type casting in Python?\n",
        "\n",
        "Ans:--> Type casting means converting a value from one data type to another (e.g., from str to int)."
      ],
      "metadata": {
        "id": "V8xO3OsWcZLs"
      }
    },
    {
      "cell_type": "markdown",
      "source": [
        "Q 10. What is the difference between implicit and explicit type casting?\n",
        "Ans:-->\n",
        "•\tImplicit: Python automatically changes the type (e.g., adding int and float gives a float).\n",
        "•\tExplicit: You manually convert using functions like int(), float(), str()."
      ],
      "metadata": {
        "id": "s-GWWdCQclcd"
      }
    },
    {
      "cell_type": "markdown",
      "source": [
        "Q 11. What is the purpose of conditional statements in Python?\n",
        "\n",
        "Ans:--> Conditional statements (if, elif, else) control the flow of the program by running certain code only when specific conditions are true."
      ],
      "metadata": {
        "id": "IMXr25e2c8I6"
      }
    },
    {
      "cell_type": "markdown",
      "source": [
        "Q 12. How does the elif statement work?\n",
        "\n",
        "Ans:--> elif means \"else if\" — it checks another condition if the previous if condition was false."
      ],
      "metadata": {
        "id": "ob7lEswSdIk-"
      }
    },
    {
      "cell_type": "markdown",
      "source": [
        "Q 13. What is the difference between for and while loops?\n",
        "\n",
        "Ans:-->\n",
        "•\tfor loops run a set number of times (like \"for each item in a list\").\n",
        "•\twhile loops run while a condition stays true."
      ],
      "metadata": {
        "id": "vQ-5idbOfpz3"
      }
    },
    {
      "cell_type": "markdown",
      "source": [
        "Q 14. Describe a scenario where a while loop is more suitable than a for loop.\n",
        "\n",
        "Ans:--> When you don’t know beforehand how many times the loop will run — for example, reading user input until they type \"exit\"."
      ],
      "metadata": {
        "id": "AebPjY6qgBAD"
      }
    },
    {
      "cell_type": "markdown",
      "source": [],
      "metadata": {
        "id": "snkzSBcWf9Na"
      }
    },
    {
      "cell_type": "markdown",
      "source": [],
      "metadata": {
        "id": "mOVKf3k0f1ic"
      }
    },
    {
      "cell_type": "markdown",
      "source": [
        "PYTHON PRACTICAL QUESTIONS"
      ],
      "metadata": {
        "id": "CF4_8jGWSX2U"
      }
    },
    {
      "cell_type": "markdown",
      "source": [
        "Q1. Write a Python program to print \"Hello, World!\"."
      ],
      "metadata": {
        "id": "L0YYuBkdTwuN"
      }
    },
    {
      "cell_type": "code",
      "source": [
        "print (\"Hello World!\")"
      ],
      "metadata": {
        "colab": {
          "base_uri": "https://localhost:8080/"
        },
        "id": "sJhx5TC8T8Gq",
        "outputId": "ed4573b1-9e4e-46c1-86a8-48ff60cd53cb"
      },
      "execution_count": 2,
      "outputs": [
        {
          "output_type": "stream",
          "name": "stdout",
          "text": [
            "Hello World!\n"
          ]
        }
      ]
    },
    {
      "cell_type": "markdown",
      "source": [
        "Q2. Write a Python program that displays your name and age?\n"
      ],
      "metadata": {
        "id": "HQV1YIcRUOse"
      }
    },
    {
      "cell_type": "code",
      "source": [
        "name = \"Vijaykumar\"\n",
        "age = 40\n",
        "\n",
        "print(\"My name is \"+name+ \" and I am \"+ str(age) +\" years old.\")"
      ],
      "metadata": {
        "colab": {
          "base_uri": "https://localhost:8080/"
        },
        "id": "zztkTTBxUXOp",
        "outputId": "af4b3f0a-ef4c-4949-a5f9-0cae817db644"
      },
      "execution_count": 5,
      "outputs": [
        {
          "output_type": "stream",
          "name": "stdout",
          "text": [
            "My name is Vijaykumar and I am 40 years old.\n"
          ]
        }
      ]
    },
    {
      "cell_type": "code",
      "source": [],
      "metadata": {
        "id": "O6tQ3Z0NU8JH"
      },
      "execution_count": null,
      "outputs": []
    },
    {
      "cell_type": "markdown",
      "source": [
        "Q3. Write code to print all the pre-defined keywords in Python using the keyword library?"
      ],
      "metadata": {
        "id": "ZGWbeelJVVp6"
      }
    },
    {
      "cell_type": "code",
      "source": [
        "import keyword\n",
        "\n",
        "keywords = keyword.kwlist\n",
        "\n",
        "for keyword in keywords:\n",
        "  print (keyword, end=\", \")"
      ],
      "metadata": {
        "colab": {
          "base_uri": "https://localhost:8080/"
        },
        "id": "WHOLu83FVxxC",
        "outputId": "a504a381-90db-4722-c1d8-fdb81b267020"
      },
      "execution_count": 12,
      "outputs": [
        {
          "output_type": "stream",
          "name": "stdout",
          "text": [
            "False, None, True, and, as, assert, async, await, break, class, continue, def, del, elif, else, except, finally, for, from, global, if, import, in, is, lambda, nonlocal, not, or, pass, raise, return, try, while, with, yield, "
          ]
        }
      ]
    },
    {
      "cell_type": "markdown",
      "source": [
        "Q4. Write a program that checks if a given word is a Python keyword.\n"
      ],
      "metadata": {
        "id": "gcxqH5PHZwq9"
      }
    },
    {
      "cell_type": "code",
      "source": [
        "import keyword\n",
        "\n",
        "check_kw = input (\"Please enter the word to check weather it belongs to Python Keyword or not: \")\n",
        "\n",
        "if keyword.iskeyword(check_kw):\n",
        "  print (f\"'{check_kw}' is python keyword!\")\n",
        "else:\n",
        "  print (f\"'{check_kw}' is not a python keyword.\")"
      ],
      "metadata": {
        "colab": {
          "base_uri": "https://localhost:8080/"
        },
        "id": "GEpLNMARZ_G2",
        "outputId": "c117584c-ce28-4c74-8db9-93ac8fef671f"
      },
      "execution_count": 17,
      "outputs": [
        {
          "output_type": "stream",
          "name": "stdout",
          "text": [
            "Please enter the word to check weather it belongs to Python Keyword or not: not\n",
            "'not' is python keyword!\n"
          ]
        }
      ]
    },
    {
      "cell_type": "markdown",
      "source": [
        "import"
      ],
      "metadata": {
        "id": "xBy82JAkZ5nI"
      }
    },
    {
      "cell_type": "markdown",
      "source": [
        "Q5. Create a list and tuple in Python, and demonstrate how attempting to change an element works differently for each."
      ],
      "metadata": {
        "id": "emDW2ZoZb2lB"
      }
    },
    {
      "cell_type": "code",
      "source": [
        "mylist = [1,2,3]\n",
        "mytuple = (1,2,3)\n",
        "\n",
        "print (\"Original list is \", mylist)\n",
        "mylist[0] = 10\n",
        "print(\"Updated list is \", mylist)\n",
        "\n",
        "print (\"Original tuple is \", mytuple)\n",
        "mytuple[0]=10\n",
        "print (\"Updated tuple is\", mytuple) # Gives an error as tuple is immutable"
      ],
      "metadata": {
        "colab": {
          "base_uri": "https://localhost:8080/",
          "height": 245
        },
        "id": "lXRVFWP-cEMy",
        "outputId": "57c1550b-44af-4166-8109-34d500b14296"
      },
      "execution_count": 19,
      "outputs": [
        {
          "output_type": "stream",
          "name": "stdout",
          "text": [
            "Original list is  [1, 2, 3]\n",
            "Updated list is  [10, 2, 3]\n",
            "Original tuple is  (1, 2, 3)\n"
          ]
        },
        {
          "output_type": "error",
          "ename": "TypeError",
          "evalue": "'tuple' object does not support item assignment",
          "traceback": [
            "\u001b[0;31m---------------------------------------------------------------------------\u001b[0m",
            "\u001b[0;31mTypeError\u001b[0m                                 Traceback (most recent call last)",
            "\u001b[0;32m<ipython-input-19-c32b70c0f9c2>\u001b[0m in \u001b[0;36m<cell line: 0>\u001b[0;34m()\u001b[0m\n\u001b[1;32m      7\u001b[0m \u001b[0;34m\u001b[0m\u001b[0m\n\u001b[1;32m      8\u001b[0m \u001b[0mprint\u001b[0m \u001b[0;34m(\u001b[0m\u001b[0;34m\"Original tuple is \"\u001b[0m\u001b[0;34m,\u001b[0m \u001b[0mmytuple\u001b[0m\u001b[0;34m)\u001b[0m\u001b[0;34m\u001b[0m\u001b[0;34m\u001b[0m\u001b[0m\n\u001b[0;32m----> 9\u001b[0;31m \u001b[0mmytuple\u001b[0m\u001b[0;34m[\u001b[0m\u001b[0;36m0\u001b[0m\u001b[0;34m]\u001b[0m\u001b[0;34m=\u001b[0m\u001b[0;36m10\u001b[0m\u001b[0;34m\u001b[0m\u001b[0;34m\u001b[0m\u001b[0m\n\u001b[0m\u001b[1;32m     10\u001b[0m \u001b[0mprint\u001b[0m \u001b[0;34m(\u001b[0m\u001b[0;34m\"Updated tuple is\"\u001b[0m\u001b[0;34m,\u001b[0m \u001b[0mmytuple\u001b[0m\u001b[0;34m)\u001b[0m\u001b[0;34m\u001b[0m\u001b[0;34m\u001b[0m\u001b[0m\n",
            "\u001b[0;31mTypeError\u001b[0m: 'tuple' object does not support item assignment"
          ]
        }
      ]
    },
    {
      "cell_type": "markdown",
      "source": [
        "Q6. Write a function to demonstrate the behavior of mutable and immutable arguments."
      ],
      "metadata": {
        "id": "YQFbwlRpd-4J"
      }
    },
    {
      "cell_type": "code",
      "source": [
        "def fun_demo(immutable_arg, mutable_arg):\n",
        "    immutable_arg = immutable_arg + 1\n",
        "    mutable_arg.append(4)\n",
        "    print(\"Inside function:\")\n",
        "    print(\"Immutable argument:\", immutable_arg)\n",
        "    print(\"Mutable argument:\", mutable_arg)\n",
        "\n",
        "x = 10\n",
        "y = [1, 2, 3]\n",
        "\n",
        "print(\"Before function call:\")\n",
        "print(\"x (Immutable):\", x)\n",
        "print(\"y (Mutable):\", y)\n",
        "\n",
        "fun_demo(x, y)\n",
        "\n",
        "print(\"\\nAfter function call:\")\n",
        "print(\"x (Immutable):\", x)\n",
        "print(\"y (Mutable):\", y)"
      ],
      "metadata": {
        "colab": {
          "base_uri": "https://localhost:8080/"
        },
        "id": "C0x1tz7kej-D",
        "outputId": "cee3d376-8e75-48f3-c7e6-adfe8a30ae11"
      },
      "execution_count": 21,
      "outputs": [
        {
          "output_type": "stream",
          "name": "stdout",
          "text": [
            "Before function call:\n",
            "x (Immutable): 10\n",
            "y (Mutable): [1, 2, 3]\n",
            "Inside function:\n",
            "Immutable argument: 11\n",
            "Mutable argument: [1, 2, 3, 4]\n",
            "\n",
            "After function call:\n",
            "x (Immutable): 10\n",
            "y (Mutable): [1, 2, 3, 4]\n"
          ]
        }
      ]
    },
    {
      "cell_type": "code",
      "source": [],
      "metadata": {
        "id": "wm7jCvOSiFqo"
      },
      "execution_count": null,
      "outputs": []
    },
    {
      "cell_type": "markdown",
      "source": [
        "Q7. Write a program that performs basic arithmetic operations on two user-input numbers."
      ],
      "metadata": {
        "id": "zsnZxNiziYpX"
      }
    },
    {
      "cell_type": "markdown",
      "source": [],
      "metadata": {
        "id": "PVrgz-L0iTs7"
      }
    },
    {
      "cell_type": "code",
      "source": [
        "num1 = int(input(\"Enter the first number: \"))\n",
        "num2 = int(input(\"Enter the second number: \"))\n",
        "\n",
        "addition = num1 + num2\n",
        "subtraction = num1 - num2\n",
        "multiplication = num1 * num2\n",
        "\n",
        "if num2 != 0:\n",
        "    division = num1 / num2\n",
        "else:\n",
        "    division = \"Undefined\"\n",
        "\n",
        "print(\"\\nResults:\")\n",
        "print(f\"{num1} + {num2} = {addition}\")\n",
        "print(f\"{num1} - {num2} = {subtraction}\")\n",
        "print(f\"{num1} * {num2} = {multiplication}\")\n",
        "print(f\"{num1} / {num2} = {division}\")"
      ],
      "metadata": {
        "colab": {
          "base_uri": "https://localhost:8080/"
        },
        "id": "3eJzX9W6iUmx",
        "outputId": "718b13cc-5db7-4e38-a495-5fa1cf0c0d69"
      },
      "execution_count": 22,
      "outputs": [
        {
          "output_type": "stream",
          "name": "stdout",
          "text": [
            "Enter the first number: 20\n",
            "Enter the second number: 10\n",
            "\n",
            "Results:\n",
            "20 + 10 = 30\n",
            "20 - 10 = 10\n",
            "20 * 10 = 200\n",
            "20 / 10 = 2.0\n"
          ]
        }
      ]
    },
    {
      "cell_type": "markdown",
      "source": [
        "Q8. Write a program to demonstrate the use of logical operators."
      ],
      "metadata": {
        "id": "7wosy16di11t"
      }
    },
    {
      "cell_type": "code",
      "source": [
        "a = int(input(\"Enter the first number: \"))\n",
        "b = int(input(\"Enter the second number: \"))\n",
        "\n",
        "print(\"\\nLogical Operator Demonstration:\")\n",
        "\n",
        "if a > 0 and b > 0:\n",
        "    print(\"Both numbers are positive (a > 0 and b > 0)\")\n",
        "else:\n",
        "    print(\"At least one number is not positive\")\n",
        "\n",
        "if a > 0 or b > 0:\n",
        "    print(\"At least one number is positive (a > 0 or b > 0)\")\n",
        "else:\n",
        "    print(\"Neither number is positive\")\n",
        "\n",
        "print(\"NOT operator result: not(a > 0) =\", not(a > 0))\n"
      ],
      "metadata": {
        "colab": {
          "base_uri": "https://localhost:8080/"
        },
        "id": "veYbkwfhi6WU",
        "outputId": "d83b8d77-1fd2-4004-fff2-34c9ac96bc6e"
      },
      "execution_count": 23,
      "outputs": [
        {
          "output_type": "stream",
          "name": "stdout",
          "text": [
            "Enter the first number: 5\n",
            "Enter the second number: 8\n",
            "\n",
            "Logical Operator Demonstration:\n",
            "Both numbers are positive (a > 0 and b > 0)\n",
            "At least one number is positive (a > 0 or b > 0)\n",
            "NOT operator result: not(a > 0) = False\n"
          ]
        }
      ]
    },
    {
      "cell_type": "markdown",
      "source": [
        "Q9. Write a Python program to convert user input from string to integer, float, and boolean types."
      ],
      "metadata": {
        "id": "OXw7jQJkkBaB"
      }
    },
    {
      "cell_type": "code",
      "source": [
        "user_input = input(\"Enter a value: \")\n",
        "\n",
        "print(\"\\nConversion Results:\")\n",
        "print (user_input)\n",
        "type(user_input)\n",
        "int_value = int(user_input)\n",
        "print(\"Integer conversion:\", int_value)\n",
        "\n",
        "float_value = float(user_input)\n",
        "print(\"Float conversion:\", float_value)\n",
        "\n",
        "bool_value = bool(user_input)\n",
        "print(\"Boolean conversion:\", bool_value)\n"
      ],
      "metadata": {
        "colab": {
          "base_uri": "https://localhost:8080/"
        },
        "id": "eMfoWxgNkRR8",
        "outputId": "62ea7f92-3acc-4715-81a7-ddbe59afbb87"
      },
      "execution_count": 31,
      "outputs": [
        {
          "output_type": "stream",
          "name": "stdout",
          "text": [
            "Enter a value: 10\n",
            "\n",
            "Conversion Results:\n",
            "10\n",
            "Integer conversion: 10\n",
            "Float conversion: 10.0\n",
            "Boolean conversion: True\n"
          ]
        }
      ]
    },
    {
      "cell_type": "markdown",
      "source": [
        "Q10. Write code to demonstrate type casting with list elements."
      ],
      "metadata": {
        "id": "eBE84prXldMN"
      }
    },
    {
      "cell_type": "code",
      "source": [
        "string_list = [\"10\", \"20\", \"3.5\", \"hello\", \"42\"]\n",
        "\n",
        "int_list = []\n",
        "float_list = []\n",
        "\n",
        "print(\"Original list:\", string_list)\n",
        "\n",
        "print(\"\\nInteger Casting:\")\n",
        "for item in string_list:\n",
        "    if isinstance (item, int):\n",
        "      int_list.append(item)\n",
        "    elif isinstance (item, float):\n",
        "      float_list.append(item)\n",
        "\n",
        "print(\"\\nSuccessfully converted to int:\", int_list)\n",
        "print(\"Successfully converted to float:\", float_list)\n"
      ],
      "metadata": {
        "colab": {
          "base_uri": "https://localhost:8080/"
        },
        "id": "8Lj6STdJlina",
        "outputId": "89fb85e4-b1a7-4dbb-d9fa-8c4bef388d2e"
      },
      "execution_count": 43,
      "outputs": [
        {
          "output_type": "stream",
          "name": "stdout",
          "text": [
            "Original list: ['10', '20', '3.5', 'hello', '42']\n",
            "\n",
            "Integer Casting:\n",
            "\n",
            "Successfully converted to int: []\n",
            "Successfully converted to float: []\n"
          ]
        }
      ]
    },
    {
      "cell_type": "code",
      "source": [
        "# List of strings (some numeric, some not)\n",
        "string_list = [\"10\", \"20\", \"3.5\", \"hello\", \"42\"]\n",
        "\n",
        "int_list = []\n",
        "float_list = []\n",
        "\n",
        "print(\"Original list:\", string_list)\n",
        "\n",
        "# Convert elements to int\n",
        "print(\"\\nInteger Casting:\")\n",
        "for item in string_list:\n",
        "    try:\n",
        "        int_list.append(int(item))\n",
        "        print(f\"'{item}' → {int(item)}\")\n",
        "    except ValueError:\n",
        "        print(f\"Cannot convert '{item}' to int.\")\n",
        "\n",
        "# Convert elements to float\n",
        "print(\"\\nFloat Casting:\")\n",
        "for item in string_list:\n",
        "    try:\n",
        "        float_list.append(float(item))\n",
        "        print(f\"'{item}' → {float(item)}\")\n",
        "    except ValueError:\n",
        "        print(f\"Cannot convert '{item}' to float.\")\n",
        "\n",
        "# Show the final lists\n",
        "print(\"\\nSuccessfully converted to int:\", int_list)\n",
        "print(\"Successfully converted to float:\", float_list)"
      ],
      "metadata": {
        "colab": {
          "base_uri": "https://localhost:8080/"
        },
        "id": "9_e-zZ2XrAAv",
        "outputId": "815e907c-0f80-47ef-cf62-4ecf7202cfbe"
      },
      "execution_count": 45,
      "outputs": [
        {
          "output_type": "stream",
          "name": "stdout",
          "text": [
            "Original list: ['10', '20', '3.5', 'hello', '42']\n",
            "\n",
            "Integer Casting:\n",
            "'10' → 10\n",
            "'20' → 20\n",
            "Cannot convert '3.5' to int.\n",
            "Cannot convert 'hello' to int.\n",
            "'42' → 42\n",
            "\n",
            "Float Casting:\n",
            "'10' → 10.0\n",
            "'20' → 20.0\n",
            "'3.5' → 3.5\n",
            "Cannot convert 'hello' to float.\n",
            "'42' → 42.0\n",
            "\n",
            "Successfully converted to int: [10, 20, 42]\n",
            "Successfully converted to float: [10.0, 20.0, 3.5, 42.0]\n"
          ]
        }
      ]
    },
    {
      "cell_type": "markdown",
      "source": [],
      "metadata": {
        "id": "LFal6qILPfVy"
      }
    },
    {
      "cell_type": "markdown",
      "source": [
        "Q11. Write a program that checks if a number is positive, negative, or zero."
      ],
      "metadata": {
        "id": "o9-2JvwytlXB"
      }
    },
    {
      "cell_type": "code",
      "source": [
        "num = float(input(\"Enter a number: \"))\n",
        "\n",
        "if num > 0:\n",
        "    print(\"The number is positive.\")\n",
        "elif num < 0:\n",
        "    print(\"The number is negative.\")\n",
        "else:\n",
        "    print(\"The number is zero.\")\n"
      ],
      "metadata": {
        "colab": {
          "base_uri": "https://localhost:8080/"
        },
        "id": "tqYKMVlyt1xb",
        "outputId": "38873441-aa4b-445f-af2a-083a2fd2e87a"
      },
      "execution_count": 49,
      "outputs": [
        {
          "output_type": "stream",
          "name": "stdout",
          "text": [
            "Enter a number: 5\n",
            "The number is positive.\n"
          ]
        }
      ]
    },
    {
      "cell_type": "markdown",
      "source": [
        "Q 12. Write a for loop to print numbers from 1 to 10."
      ],
      "metadata": {
        "id": "VZCVj7YJStaK"
      }
    },
    {
      "cell_type": "code",
      "source": [
        "for i in range (1,11):\n",
        "  print (i)"
      ],
      "metadata": {
        "colab": {
          "base_uri": "https://localhost:8080/"
        },
        "id": "7uHd4WwZTE28",
        "outputId": "efdc69a4-84b6-4830-bc82-b910f2ec0761"
      },
      "execution_count": 1,
      "outputs": [
        {
          "output_type": "stream",
          "name": "stdout",
          "text": [
            "1\n",
            "2\n",
            "3\n",
            "4\n",
            "5\n",
            "6\n",
            "7\n",
            "8\n",
            "9\n",
            "10\n"
          ]
        }
      ]
    },
    {
      "cell_type": "markdown",
      "source": [],
      "metadata": {
        "id": "-roiNta8TddZ"
      }
    },
    {
      "cell_type": "markdown",
      "source": [
        "Q 13. Write a Python program to find the sum of all even numbers between 1 and 50."
      ],
      "metadata": {
        "id": "-Li1wzAaTfRb"
      }
    },
    {
      "cell_type": "code",
      "source": [
        "even_sum = 0\n",
        "\n",
        "for num in range(1, 51):\n",
        "    if num % 2 == 0:\n",
        "        even_sum = even_sum + num\n",
        "\n",
        "print(\"Sum of even numbers from 1 to 50 is:\", even_sum)"
      ],
      "metadata": {
        "colab": {
          "base_uri": "https://localhost:8080/"
        },
        "id": "lcnL88oeTebY",
        "outputId": "45e1b6bf-e946-46cc-d6f1-ae1dd44670ab"
      },
      "execution_count": 2,
      "outputs": [
        {
          "output_type": "stream",
          "name": "stdout",
          "text": [
            "Sum of even numbers from 1 to 50 is: 650\n"
          ]
        }
      ]
    },
    {
      "cell_type": "markdown",
      "source": [
        "Q 14. Write a program to reverse a string using a while loop.\n"
      ],
      "metadata": {
        "id": "ExRNOhH0T5SR"
      }
    },
    {
      "cell_type": "code",
      "source": [
        "text = input(\"Enter a string to reverse: \")\n",
        "\n",
        "reversed_text = \"\"\n",
        "index = len(text) - 1\n",
        "\n",
        "while index >= 0:\n",
        "    reversed_text = reversed_text + text[index]\n",
        "    index -= 1\n",
        "\n",
        "print(\"Reversed string:\", reversed_text)\n"
      ],
      "metadata": {
        "colab": {
          "base_uri": "https://localhost:8080/"
        },
        "id": "hQp5fMaET-KF",
        "outputId": "8da0c0db-1d05-4698-dc9c-38c1592c9d99"
      },
      "execution_count": 3,
      "outputs": [
        {
          "output_type": "stream",
          "name": "stdout",
          "text": [
            "Enter a string to reverse: vijay\n",
            "Reversed string: yajiv\n"
          ]
        }
      ]
    },
    {
      "cell_type": "markdown",
      "source": [
        "Q 15. Write a Python program to calculate the factorial of a number provided by the user using a while loop."
      ],
      "metadata": {
        "id": "J1sD0vdnVaR2"
      }
    },
    {
      "cell_type": "code",
      "source": [
        "num = int(input(\"Enter a non-negative integer: \"))\n",
        "\n",
        "if num < 0:\n",
        "    print(\"Factorial is not defined for negative numbers.\")\n",
        "else:\n",
        "    factorial = 1\n",
        "    i = 1\n",
        "\n",
        "    while i <= num:\n",
        "        factorial = factorial * i\n",
        "        i = i + 1\n",
        "\n",
        "    print(f\"The factorial of {num} is: {factorial}\")\n"
      ],
      "metadata": {
        "colab": {
          "base_uri": "https://localhost:8080/"
        },
        "id": "LJqCeKJRVuUg",
        "outputId": "ab4b31f6-ebd4-487b-8cc8-66de9eb03b57"
      },
      "execution_count": 5,
      "outputs": [
        {
          "output_type": "stream",
          "name": "stdout",
          "text": [
            "Enter a non-negative integer: 7\n",
            "The factorial of 7 is: 5040\n"
          ]
        }
      ]
    }
  ]
}