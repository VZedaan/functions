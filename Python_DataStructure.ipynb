{
  "nbformat": 4,
  "nbformat_minor": 0,
  "metadata": {
    "colab": {
      "provenance": [],
      "collapsed_sections": [
        "p5AjtokNmhBO"
      ]
    },
    "kernelspec": {
      "name": "python3",
      "display_name": "Python 3"
    },
    "language_info": {
      "name": "python"
    }
  },
  "cells": [
    {
      "cell_type": "code",
      "execution_count": null,
      "metadata": {
        "id": "Ky09oB3UvZvM"
      },
      "outputs": [],
      "source": []
    },
    {
      "cell_type": "markdown",
      "source": [
        "# Data Types and Structures Questions"
      ],
      "metadata": {
        "id": "p5AjtokNmhBO"
      }
    },
    {
      "cell_type": "markdown",
      "source": [
        "**Q 1. What are data structures, and why are they important?**\n",
        "\n",
        "**Ans:** Data structures are specialized formats for organizing, managing, and storing data efficiently. They are fundamental to programming, enabling developers to handle data in ways that optimize performance and resource utilization.\n",
        "\n",
        "Python offers several built-in data structures, each serving unique purposes:\n",
        "\n",
        "*   List: An ordered, mutable collection of items. Useful for storing sequences of elements.\n",
        "*   Tuple: An ordered, immutable collection. Ideal for fixed data sequences.\n",
        "*   Dictionary: A collection of key-value pairs, allowing fast retrieval based on unique keys.\n",
        "*  Set: An unordered collection of unique elements, suitable for membership testing and eliminating duplicates."
      ],
      "metadata": {
        "id": "hZ6G80cqwdNI"
      }
    },
    {
      "cell_type": "markdown",
      "source": [
        "**Q 2. Explain the difference between mutable and immutable data types with examples.**\n",
        "\n",
        "**Ans:** Difference between Mutable and Immutable objects:\n",
        "* Mutable objects can be changed after they are created. This means their content (data) can be altered without changing their identity (memory address).\n",
        "* Immutable objects cannot be changed after they are created. Any modification results in the creation of a new object.\n",
        "\n",
        "> Mutable Data Types: list, dictionary, set\n",
        "\n",
        "```\n",
        "# Mutable list example:\n",
        "my_list = [1, 2, 3]\n",
        "my_list.append(4)\n",
        "print(my_list)  # Output: [1, 2, 3, 4]\n",
        "```\n",
        "```\n",
        "# Mutable dictionary example:\n",
        "my_dict = {'name': 'Alice', 'age': 30}\n",
        "my_dict['age'] = 31\n",
        "print(my_dict)  # Output: {'name': 'Alice', 'age': 31}\n",
        "```\n",
        "> Immutable Data Types: str (string), tuple, frozenset\n",
        "\n",
        "```\n",
        "# Immutable tuple example:\n",
        "my_tuple = (1, 2, 3)\n",
        "my_tuple[0] = 4  # Raises TypeError\n",
        "```"
      ],
      "metadata": {
        "id": "y6c628jh2I29"
      }
    },
    {
      "cell_type": "markdown",
      "source": [
        "**Q 3. What are the main differences between lists and tuples in Python.**\n",
        "\n",
        "***Ans:***\n",
        "In Python, lists and tuples are both used to store collections of items, but they differ significantly in terms of mutability, performance, and typical use cases.\n",
        "*   The primary distinction lies in mutability: lists are mutable, meaning their contents can be changed after creation. This allows for operations such as adding, removing, or modifying elements. Tuples, on the other hand, are immutable; once defined, their contents cannot be altered. This immutability makes tuples suitable for storing fixed collections of items, such as coordinates or RGB color values, where data integrity is crucial.\n",
        "*   In terms of performance, tuples are generally more memory-efficient and faster than lists. Since tuples are immutable, Python can optimize their storage and access patterns, leading to better performance in certain scenarios. Additionally, tuples can be used as keys in dictionaries due to their hashable nature, provided all their elements are also hashable. Lists, being mutable, are not hashable and thus cannot serve as dictionary keys.\n",
        "*   The choice between lists and tuples often depends on the specific requirements of your program. If you need a collection of items that may change over time, a list is appropriate. If you require a fixed collection of items that should remain constant, a tuple is the better choice. Understanding these differences is essential for writing efficient and effective Python code.\n",
        "\n"
      ],
      "metadata": {
        "id": "ne36_2G2ft3F"
      }
    },
    {
      "cell_type": "markdown",
      "source": [
        "**Q 4. Describe how dictionaries store data.**\n",
        "\n",
        "**Ans:** Dictionaries in Python store data as key-value pairs.  Each key must be unique and immutable (like strings, numbers, or tuples), and it's used to access its corresponding value.  The values can be of any data type, including other dictionaries (allowing for nested structures).  Internally, Python uses a hash table implementation to provide efficient lookups, insertions, and deletions of items based on their keys.  The hash table allows for very fast average-case performance (O(1) time complexity) for these operations.\n"
      ],
      "metadata": {
        "id": "fYEK99kino61"
      }
    },
    {
      "cell_type": "markdown",
      "source": [
        "**Q 5. Why might you use a set instead of a list in Python.**\n",
        "\n",
        "**Ans:** Choosing between a set and a list depends on the specific requirements of your program. Sets are particularly advantageous when you need to store unique elements and perform fast membership tests. Unlike lists, which allow duplicate entries and maintain the order of elements, sets automatically eliminate duplicates and do not preserve order. This makes sets ideal for tasks like deduplicating data or checking for the presence of an item, as they offer average-case time complexity of O(1) for these operations, compared to O(n) for lists.\n",
        "\n",
        "Furthermore, sets support efficient mathematical operations such as union, intersection, and difference, which are more cumbersome and less performant with lists. For instance, to find common elements between two collections, using set intersection is more straightforward and faster than iterating through lists. However, it's important to note that sets are unordered and do not support indexing or slicing, so if you require ordered data or need to access elements by position, lists would be more appropriate."
      ],
      "metadata": {
        "id": "jcVd8eN1ovmu"
      }
    },
    {
      "cell_type": "markdown",
      "source": [
        "**Q 6. What is a string in Python, and how is it different from a list.**\n",
        "\n",
        "**Ans:**  In Python, a string is a sequence of characters enclosed within single ('), double (\"), or triple quotes (''' or \"\"\"). Strings are immutable, meaning that once a string is created, its contents cannot be altered. Any operation that modifies a string actually creates a new string object. Strings are commonly used to represent textual data, such as words, sentences, or any sequence of characters.\n",
        "\n",
        "On the other hand, a list is a mutable, ordered collection of items that can be of any data type, including numbers, strings, or even other lists. Lists are defined by enclosing elements within square brackets ([]). Unlike strings, lists can be modified after creation; elements can be added, removed, or changed. This mutability makes lists suitable for scenarios where the data collection needs to be dynamic.\n",
        "\n",
        "While both strings and lists are sequences and support operations like indexing and slicing, their key differences lie in mutability and the type of elements they can contain. Strings are immutable and consist solely of characters, whereas lists are mutable and can hold a mix of data types. Understanding these distinctions is crucial for choosing the appropriate data structure based on the requirements of your Python program."
      ],
      "metadata": {
        "id": "sPS1HlU6rMYC"
      }
    },
    {
      "cell_type": "markdown",
      "source": [
        "**Q 7. How do tuples ensure data integrity in Python?**\n",
        "\n",
        "**Ans:** Tuples ensure data integrity in Python through their immutability, which prevents modification after creation, safeguarding against accidental changes, enabling their use as dictionary keys, ensuring safe data passing, and guaranteeing consistency in iterations."
      ],
      "metadata": {
        "id": "ZZA-O7ABtKAO"
      }
    },
    {
      "cell_type": "markdown",
      "source": [
        "**Q 8. What is a hash table, and how does it relate to dictionaries in Python?**\n",
        "\n",
        "**Ans:** A hash table is a data structure that implements an associative array, also known as a map or dictionary. It uses a hash function to compute an index (a \"hash\") for each key, which determines where the corresponding value is stored. This allows for efficient (often O(1) on average) retrieval, insertion, and deletion of key-value pairs.\n",
        "\n",
        "In Python, dictionaries (dict) are implemented using hash tables. The keys of a Python dictionary must be hashable (immutable), which allows the underlying hash table to efficiently locate and access the associated values. When you add a key-value pair to a dictionary, Python calculates the hash of the key to determine its position in the hash table. When you look up a key, the same hashing process is used to quickly find the corresponding value."
      ],
      "metadata": {
        "id": "tlVPxU2L9HHW"
      }
    },
    {
      "cell_type": "markdown",
      "source": [
        "**Q 9. Can lists contain different data types in Python?**\n",
        "\n",
        "**Ans:** Lists in Python can contain different data types. Python lists are dynamically typed, meaning that the elements within a single list do not need to be of the same type. For example, you can have a list containing integers, strings, booleans, and even other lists or tuples."
      ],
      "metadata": {
        "id": "Dexu1QAz-YvO"
      }
    },
    {
      "cell_type": "markdown",
      "source": [
        "**Q 10. Explain why strings are immutable in Python.**\n",
        "\n",
        "**Ans:** In Python, strings are immutable, meaning once a string object is created, it cannot be altered. This design choice is intentional and offers below given several benefits.\n",
        "\n",
        "* Data Safety and Predictability: Immutability ensures that once a string is created, its content remains constant. This prevents unintended side effects, especially when strings are shared across different parts of a program.\n",
        "\n",
        "* Performance Optimization: Immutable strings allow Python to optimize memory usage through a technique called interning. Commonly used strings are stored in a single memory location, enabling faster comparisons and reduced memory consumption. This is particularly beneficial for short strings and identifiers.\n",
        "\n",
        "* Hashability: Since strings are immutable, they can be hashed, making them suitable as keys in dictionaries and elements in sets. If strings were mutable, their hash values could change, leading to inconsistencies and errors in data structures that rely on hashing.\n",
        "\n",
        "* Thread Safety: In multi-threaded applications, immutable objects like strings can be shared across threads without synchronization mechanisms, as their state cannot change. This reduces the complexity of concurrent programming and avoids potential race conditions."
      ],
      "metadata": {
        "id": "kz3svf4EAs9w"
      }
    },
    {
      "cell_type": "code",
      "source": [],
      "metadata": {
        "id": "ctTGmL8D9GXP"
      },
      "execution_count": null,
      "outputs": []
    },
    {
      "cell_type": "markdown",
      "source": [
        "**Q 11. What advantages do dictionaries offer over lists for certain tasks?**\n",
        "\n",
        "**Ans:** Dictionaries in Python offer several advantages over lists for specific tasks.\n",
        "\n",
        "*   Fast Lookup by Key: Dictionaries provide average-case constant time complexity (O(1)) for retrieving values using keys, thanks to their underlying hash table implementation. In contrast, searching for an item in a list requires linear time (O(n)), as each element may need to be checked until the desired one is found.\n",
        "\n",
        "*   Associating Data with Unique Identifiers: When data elements are naturally associated with unique identifiers (like names, IDs, or keys), dictionaries are ideal. They allow direct mapping from a key to its corresponding value, eliminating the need for complex indexing or parallel lists.\n",
        "\n",
        "*   Improved Code Clarity and Maintainability: Using dictionaries can make code more readable and maintainable, especially when the data naturally forms key-value pairs. It clearly conveys the relationship between elements, reducing the cognitive load for someone reading or maintaining the code.\n",
        "\n",
        "*   Efficient Data Modification: Dictionaries allow for efficient updates, additions, and deletions of key-value pairs without the need to shift elements, as is often required with lists. This efficiency is particularly beneficial when managing dynamic datasets where frequent modifications are necessary.\n",
        "\n",
        "In summary, dictionaries are powerful tools for scenarios requiring quick lookups, clear key-value associations, and dynamic data management. However, for ordered collections or when memory efficiency is paramount, lists may be more suitable.\n",
        "\n",
        "\n",
        "\n",
        "\n",
        "\n"
      ],
      "metadata": {
        "id": "NhqSvnvoH95v"
      }
    },
    {
      "cell_type": "markdown",
      "source": [
        "\\"
      ],
      "metadata": {
        "id": "bKfIMw7zhvdK"
      }
    },
    {
      "cell_type": "markdown",
      "source": [
        "**Q 12. Describe a scenario where using a tuple would be preferable over a list?**\n",
        "\n",
        "**Ans:** Tuples in Python are immutable sequences, meaning their contents cannot be altered after creation. This immutability offers several advantages over lists in specific scenarios.\n",
        "\n",
        "*   Ensuring Data Integrity: When you have a collection of values that should remain constant throughout the program's execution—such as configuration settings, fixed coordinates, or constant parameters—tuples are ideal. Their immutability guarantees that the data remains unchanged, preventing accidental modifications.\n",
        "\n",
        "*   Performance Benefits: Tuples are generally faster than lists for iteration and access operations. Their fixed size and immutability allow Python to optimize their storage and access patterns, leading to performance improvements in scenarios where large numbers of read-only sequences are processed.\n",
        "\n",
        "*   Semantic Clarity: Tuples are often used to represent heterogeneous data—collections of items that are of different types and have different meanings.\n",
        "For instance, a tuple can represent a point in 3D space: point = (x, y, z)\n",
        "\n",
        "*   Hashability for Dictionary Keys: Since tuples are immutable, they can be used as keys in dictionaries, provided all their elements are also immutable. Lists, being mutable, cannot serve as dictionary keys.\n",
        "\n",
        "*   Function Returns and Unpacking: Tuples are commonly used to return multiple values from a function, allowing for straightforward unpacking of results.\n",
        "\n",
        "In conclusion, tuples are advantageous when you need to ensure data remains constant, optimize performance for read-only sequences, represent heterogeneous data clearly, or utilize compound keys in dictionaries.\n",
        "\n",
        "\n"
      ],
      "metadata": {
        "id": "YJCy8uJgOpYY"
      }
    },
    {
      "cell_type": "markdown",
      "source": [
        "**Q 13. How do sets handle duplicate values in Python?**\n",
        "\n",
        "**Ans:** Python sets automatically handle duplicates by ensuring that each element is unique. This feature makes sets particularly useful for tasks that require the elimination of duplicate entries.\n",
        "\n",
        "```\n",
        "# This is formatted as code\n",
        "numbers = [1, 2, 2, 3, 4, 4, 5]\n",
        "unique_numbers = list(set(numbers))\n",
        "print(unique_numbers)\n",
        "# Output\n",
        "[1, 2, 3, 4, 5]\n",
        "```"
      ],
      "metadata": {
        "id": "OrHXmXJ0Q8AF"
      }
    },
    {
      "cell_type": "markdown",
      "source": [
        "**Q 14. How does the “in” keyword work differently for lists and dictionaries?**\n",
        "\n",
        "**Ans:** In Python, the in keyword is used to check for membership within various data structures. Its behavior differs between lists and dictionaries due to their underlying implementations.\n",
        "\n",
        "**Using in with Lists**\n",
        "\n",
        "When applied to a list, the in keyword checks whether a specific value exists among the list's elements.\n",
        "```\n",
        "# Example:\n",
        "fruits = ['apple', 'banana', 'cherry']\n",
        "print('banana' in fruits)  # Output: True\n",
        "```\n",
        "How it works:\n",
        "*   Linear Search: Python iterates through each element of the list until it finds a match.\n",
        "*   Time Complexity: O(n), where n is the number of elements in the list.\n",
        "\n",
        "**Using in with Dictionaries**\n",
        "\n",
        "For dictionaries, the in keyword checks whether a specific key exists within the dictionary.\n",
        "```\n",
        "# Example\n",
        "person = {'name': 'Alice', 'age': 30}\n",
        "print('name' in person)    # Output: True\n",
        "print('Alice' in person)   # Output: False\n",
        "```\n",
        "\n",
        "How it works:\n",
        "*   Key Check: The in keyword checks for the presence of a key, not a value.\n",
        "*   Hash Table Lookup: Dictionaries in Python are implemented using hash tables, allowing for efficient key lookups.\n",
        "*   Time Complexity: Average case is O(1), meaning the lookup time remains constant regardless of the dictionary's size."
      ],
      "metadata": {
        "id": "HtOT-c-vCItq"
      }
    },
    {
      "cell_type": "markdown",
      "source": [
        "**Q 15. Can you modify the elements of a tuple? Explain why or why not?**\n",
        "\n",
        "**Ans:** No, you cannot modify the elements of a tuple in Python. Tuples are immutable, meaning that once a tuple is created, its elements cannot be changed, added, or removed.\n",
        "\n",
        "**Why Are Tuples Immutable?**\n",
        "\n",
        "Tuples are designed to be immutable for several reasons:\n",
        "*   Data Integrity: Immutability ensures that the data remains constant throughout the program, preventing accidental modifications.\n",
        "*   Hashability: Immutable objects can be used as keys in dictionaries and elements in sets.\n",
        "*   Performance: Immutable objects can be optimized by the Python interpreter, leading to potential performance benefits.\n",
        "\n",
        "However, you can change their elements indirectly by creating a new tuple by converting to a list or using concatenation.Elements within a tuple that are mutable (like lists) can be changed, but the tuple's overall structure cannot be change."
      ],
      "metadata": {
        "id": "p4Tdqvs_FUL-"
      }
    },
    {
      "cell_type": "markdown",
      "source": [
        "**Q 16. What is a nested dictionary, and give an example of its use case.**\n",
        "\n",
        "**Ans:** A nested dictionary in Python is a dictionary where each value is itself another dictionary. This structure allows for the organization of complex, hierarchical data in a clear and accessible manner.\n",
        "\n",
        "A nested dictionary takes this a step further by having dictionaries as values within another dictionary. This is particularly useful for representing structured data, such as records or configurations.\n",
        "\n",
        "> In this example, person is a dictionary that contains other dictionaries under the keys contact and address.\n",
        "\n",
        "```\n",
        "# Nested disctionary example:\n",
        "person = {\n",
        "    'name': 'Alice',\n",
        "    'contact': {\n",
        "        'email': 'alice@example.com',\n",
        "        'phone': '123-456-7890'\n",
        "    },\n",
        "    'address': {\n",
        "        'city': 'Wonderland',\n",
        "        'zip': '00000'\n",
        "    }\n",
        "}\n",
        "```\n",
        "\n",
        "> To retrieve values from a nested dictionary, you chain the keys using square brackets:\n",
        "\n",
        "```\n",
        "# This is formatted as code\n",
        "email = person['contact']['email']\n",
        "city = person['address']['city']\n",
        "```\n",
        "\n",
        "This approach allows you to drill down into the nested structures to access specific pieces of data.\n",
        "\n",
        "**Use Case: Employee Records**\n",
        "> Nested dictionaries are ideal for storing records of multiple entities, such as employee information:\n",
        "\n",
        "```\n",
        "# This is formatted as code\n",
        "employees = {\n",
        "    101: {'name': 'John Doe', 'position': 'Developer', 'salary': 75000},\n",
        "    102: {'name': 'Jane Smith', 'position': 'Designer', 'salary': 68000},\n",
        "    103: {'name': 'Emily Davis', 'position': 'Manager', 'salary': 82000}\n",
        "}\n",
        "```\n",
        "Here, each employee ID maps to another dictionary containing that employee's details. This structure simplifies data management and retrieval.\n",
        "\n",
        "\n",
        "\n"
      ],
      "metadata": {
        "id": "2DfqkXHJKvaq"
      }
    },
    {
      "cell_type": "markdown",
      "source": [
        "**Q 17. Describe the time complexity of accessing elements in a dictionary.**\n",
        "\n",
        "**Ans:** In Python, accessing elements in a dictionary by key is highly efficient due to the underlying hash table implementation.\n",
        "\n",
        "**Time Complexity of Dictionary Access**\n",
        "*   Average Case: Accessing a value by its key has a time complexity of O(1). This means that, on average, retrieving a value takes constant time, regardless of the dictionary's size.\n",
        "*   Worst Case: In rare scenarios, such as when many keys hash to the same value (hash collisions), the time complexity can degrade to O(n), where n is the number of elements in the dictionary. However, Python's hash function and collision resolution strategies are designed to minimize such occurrences.\n",
        "\n",
        "**How Dictionaries Achieve O(1) Access**\n",
        "\n",
        "Python dictionaries use a hash table to store key-value pairs. When a key is used to access a value:\n",
        "*   Hashing: The key is passed through a hash function, producing a hash value.\n",
        "*   Indexing: This hash value determines the index in the underlying array where the value is stored.\n",
        "*   Retrieval: The value is retrieved directly from this index.\n",
        "\n",
        "This process allows for constant-time access in the average case."
      ],
      "metadata": {
        "id": "uJSpGgI06iT6"
      }
    },
    {
      "cell_type": "markdown",
      "source": [
        "**Q 18. In what situations are lists preferred over dictionaries.**\n",
        "\n",
        "**Ans:** In Python, lists are preferred over dictionaries in scenarios where the order of elements, sequential access, and memory efficiency are important. Here are key situations where using a list is advantageous:\n",
        "\n",
        "**Maintaining Order and Sequence**\n",
        "\n",
        "Lists inherently maintain the order of elements, making them ideal for tasks where the sequence matters, such as:\n",
        "*   Iterating in a specific order: When processing items sequentially.\n",
        "*   Accessing elements by position: Using indices to retrieve or modify elements.\n",
        "*   Implementing queues or stacks: Where elements are added or removed in a specific order.\n",
        "\n",
        "In contrast, dictionaries (prior to Python 3.7) do not guarantee order, and even in later versions, while they preserve insertion order, accessing elements by position is not straightforward.\n",
        "\n",
        "**Index-Based Access**\n",
        "\n",
        "When you need to access elements by their position, lists provide O(1) time complexity for index-based retrieval, which is more efficient than searching for a value in a dictionary without knowing the key.\n",
        "\n",
        "**Memory Efficiency**\n",
        "\n",
        "Lists are more memory-efficient than dictionaries because they store only the elements themselves, whereas dictionaries store key-value pairs, which require additional memory for keys and the underlying hash table.\n",
        "\n",
        "**Homogeneous Data Collections**\n",
        "\n",
        "If you're working with a collection of similar items, such as a list of numbers or strings, and there's no need to associate each item with a unique key, lists are the appropriate choice.\n",
        "\n",
        "**Simpler Data Structures**\n",
        "\n",
        "For simple data structures where the relationship between elements doesn't require key-value pairing, lists offer a straightforward and readable solution."
      ],
      "metadata": {
        "id": "dx_JwK6D-ZO5"
      }
    },
    {
      "cell_type": "markdown",
      "source": [
        "**Q 19. Why are dictionaries considered unordered, and how does that affect data retrieval.**\n",
        "\n",
        "**Ans:** In Python, dictionaries are primarily considered unordered because their main purpose is to provide fast key-based access, not to maintain the order of elements. This design choice influences how data is stored and retrieved within dictionaries.\n",
        "\n",
        "**Why Are Dictionaries Considered Unordered?**\n",
        "\n",
        "Dictionaries in Python are implemented using hash tables, which allow for efficient insertion, deletion, and lookup operations. In this structure, the position of each key-value pair is determined by the hash value of the key, not by the order in which items are added.\n",
        "\n",
        "**Impact on Data Retrieval**\n",
        "\n",
        "*   Unpredictable Iteration Order (Pre-Python 3.7): In versions before Python 3.7, iterating over a dictionary's keys, values, or items could yield results in an order different from the insertion sequence. This unpredictability could affect operations that depend on element order.\n",
        "\n",
        "*   No Index-Based Access: Unlike lists, dictionaries do not support accessing elements by numerical indices. Attempting to retrieve items by position (e.g., dict[0]) is not valid, as dictionaries are designed for key-based access.\n",
        "\n",
        "*   Use of OrderedDict for Order-Sensitive Applications: For scenarios where the order of elements is crucial, Python provides the OrderedDict class in the collections module, which preserves the insertion order of items explicitly.\n",
        "GeeksforGeeks."
      ],
      "metadata": {
        "id": "l9-pLeogBkQg"
      }
    },
    {
      "cell_type": "markdown",
      "source": [
        "**Q 20. Explain the difference between a list and a dictionary in terms of data retrieval.**\n",
        "\n",
        "**Ans:** In Python, lists and dictionaries are fundamental data structures, each with unique characteristics that influence how data is retrieved. Here's a detailed comparison focusing on data retrieval:\n",
        "\n",
        "**Lists:** Ordered Collections Accessed by Index\n",
        "\n",
        "*   Structure: Lists are ordered sequences of elements, where each item is assigned a numerical index starting from 0.\n",
        "*   Data Retrieval: Accessing elements is done via their index positions.\n",
        "\n",
        "```\n",
        "# This is formatted as code\n",
        "fruits = ['apple', 'banana', 'cherry']\n",
        "print(fruits[1])  # Output: 'banana'\n",
        "```\n",
        "\n",
        "Use Cases: Ideal for scenarios where the order of elements is significant, such as processing sequences or iterating over items in a specific order.\n",
        "\n",
        "**Dictionaries:** Unordered Collections Accessed by Keys\n",
        "\n",
        "*   Structure: Dictionaries store data as key-value pairs, allowing for the association of unique keys to values.\n",
        "*   Data Retrieval: Accessing elements is done via their unique keys.\n",
        "\n",
        "```\n",
        "# This is formatted as code\n",
        "capitals = {'India': 'New Delhi', 'France': 'Paris'}\n",
        "print(capitals['France'])  # Output: 'Paris'\n",
        "```\n",
        "\n",
        "Use Cases: Suitable for situations requiring rapid access to data via unique identifiers, like looking up values based on specific keys."
      ],
      "metadata": {
        "id": "_nClQz8aD-uv"
      }
    },
    {
      "cell_type": "markdown",
      "source": [
        "# Practical Questions"
      ],
      "metadata": {
        "id": "EMJlmX7Omrn6"
      }
    },
    {
      "cell_type": "markdown",
      "source": [
        "**Q 1. Write a code to create a string with your name and print it.**\n",
        "\n",
        "**Ans:**"
      ],
      "metadata": {
        "id": "LTgV7Jqvm1vG"
      }
    },
    {
      "cell_type": "code",
      "source": [
        "my_name = \"Vijaykumar\"\n",
        "print(my_name)"
      ],
      "metadata": {
        "colab": {
          "base_uri": "https://localhost:8080/"
        },
        "id": "TrVS5UH-nmvQ",
        "outputId": "b385d913-9f39-45cb-94a8-360021f2f024"
      },
      "execution_count": null,
      "outputs": [
        {
          "output_type": "stream",
          "name": "stdout",
          "text": [
            "Vijaykumar\n"
          ]
        }
      ]
    },
    {
      "cell_type": "markdown",
      "source": [
        "**Q 2. Write a code to find the length of the string \"Hello World\".**\n",
        "\n",
        "**Ans:**"
      ],
      "metadata": {
        "id": "Yz4cBrYanvb5"
      }
    },
    {
      "cell_type": "code",
      "source": [
        "# Define the string\n",
        "message = \"Hello World\"\n",
        "\n",
        "# Use len() to find the length of the string\n",
        "length = len(message)\n",
        "\n",
        "# Print the result\n",
        "print(\"The length of the string is:\", length)"
      ],
      "metadata": {
        "colab": {
          "base_uri": "https://localhost:8080/"
        },
        "id": "rhdupQfTn-H3",
        "outputId": "2af8fb2d-abd5-489b-c5ab-b50dce63559a"
      },
      "execution_count": null,
      "outputs": [
        {
          "output_type": "stream",
          "name": "stdout",
          "text": [
            "The length of the string is: 11\n"
          ]
        }
      ]
    },
    {
      "cell_type": "markdown",
      "source": [
        "**Q 3. Write a code to slice the first 3 characters from the string \"Python Programming\".**\n",
        "\n",
        "**Ans:**"
      ],
      "metadata": {
        "id": "Zt2yfsa-oI5G"
      }
    },
    {
      "cell_type": "code",
      "source": [
        "text = \"Python Programming\"\n",
        "first_three = text[:3]\n",
        "print(first_three)"
      ],
      "metadata": {
        "colab": {
          "base_uri": "https://localhost:8080/"
        },
        "id": "zZ3LFN53oUIO",
        "outputId": "f59b0b70-f097-4b2e-c39c-d10ae89155db"
      },
      "execution_count": null,
      "outputs": [
        {
          "output_type": "stream",
          "name": "stdout",
          "text": [
            "Pyt\n"
          ]
        }
      ]
    },
    {
      "cell_type": "markdown",
      "source": [
        "**Q 4. Write a code to convert the string \"hello\" to uppercase.**\n",
        "\n",
        "**Ans:**"
      ],
      "metadata": {
        "id": "4B7lUFFUp6Db"
      }
    },
    {
      "cell_type": "code",
      "source": [
        "text = \"hello\"\n",
        "u_text = text.upper()\n",
        "print(u_text)"
      ],
      "metadata": {
        "colab": {
          "base_uri": "https://localhost:8080/"
        },
        "id": "ye90TengqEFB",
        "outputId": "8db3f047-07e6-413c-d892-d8e425e67c5f"
      },
      "execution_count": null,
      "outputs": [
        {
          "output_type": "stream",
          "name": "stdout",
          "text": [
            "HELLO\n"
          ]
        }
      ]
    },
    {
      "cell_type": "markdown",
      "source": [
        "**Q 5. Write a code to replace the word \"apple\" with \"orange\" in the string \"I like apple\".**\n",
        "\n",
        "**Ans:**"
      ],
      "metadata": {
        "id": "Z07_ep5PqPn7"
      }
    },
    {
      "cell_type": "code",
      "source": [
        "text = \"I like apple\"\n",
        "new_text = text.replace(\"apple\", \"orange\")\n",
        "print(new_text)"
      ],
      "metadata": {
        "colab": {
          "base_uri": "https://localhost:8080/"
        },
        "id": "gahQdcrMqaoS",
        "outputId": "b5a5e9b6-2b04-4a45-d5b7-c54315a51041"
      },
      "execution_count": null,
      "outputs": [
        {
          "output_type": "stream",
          "name": "stdout",
          "text": [
            "I like orange\n"
          ]
        }
      ]
    },
    {
      "cell_type": "markdown",
      "source": [
        "**Q 6. Write a code to create a list with numbers 1 to 5 and print it.**\n",
        "\n",
        "**Ans:**"
      ],
      "metadata": {
        "id": "CFt_nIRvsy_3"
      }
    },
    {
      "cell_type": "code",
      "source": [
        "numbers = list(range(1, 6))\n",
        "print(numbers)"
      ],
      "metadata": {
        "colab": {
          "base_uri": "https://localhost:8080/"
        },
        "id": "VU_jF2oqs5fz",
        "outputId": "e8e11373-63a9-4528-d896-f092172f749c"
      },
      "execution_count": null,
      "outputs": [
        {
          "output_type": "stream",
          "name": "stdout",
          "text": [
            "[1, 2, 3, 4, 5]\n"
          ]
        }
      ]
    },
    {
      "cell_type": "markdown",
      "source": [
        "**Q 7. Write a code to append the number 10 to the list [1, 2, 3, 4].**\n",
        "\n",
        "**Ans:**"
      ],
      "metadata": {
        "id": "Cw58awlztEFV"
      }
    },
    {
      "cell_type": "code",
      "source": [
        "numbers = [1, 2, 3, 4]\n",
        "numbers.append(10)\n",
        "print(numbers)"
      ],
      "metadata": {
        "colab": {
          "base_uri": "https://localhost:8080/"
        },
        "id": "daiBu1vNtXNc",
        "outputId": "6cc9738a-6e1f-4258-a695-0f42fd76463e"
      },
      "execution_count": null,
      "outputs": [
        {
          "output_type": "stream",
          "name": "stdout",
          "text": [
            "[1, 2, 3, 4, 10]\n"
          ]
        }
      ]
    },
    {
      "cell_type": "markdown",
      "source": [
        "**Q 8. Write a code to remove the number 3 from the list [1, 2, 3, 4, 5].**\n",
        "\n",
        "**Ans:**"
      ],
      "metadata": {
        "id": "E0GiIs_HtlZ7"
      }
    },
    {
      "cell_type": "code",
      "source": [
        "numbers = [1, 2, 3, 4, 5]\n",
        "numbers.remove(3)\n",
        "print(numbers)"
      ],
      "metadata": {
        "colab": {
          "base_uri": "https://localhost:8080/"
        },
        "id": "xCHMj7tFt9F1",
        "outputId": "e59466d6-625b-4c29-ef6d-d336ed883c20"
      },
      "execution_count": null,
      "outputs": [
        {
          "output_type": "stream",
          "name": "stdout",
          "text": [
            "[1, 2, 4, 5]\n"
          ]
        }
      ]
    },
    {
      "cell_type": "markdown",
      "source": [
        "**Q 9. Write a code to access the second element in the list ['a', 'b', 'c', 'd'].**\n",
        "\n",
        "**Ans:**\n"
      ],
      "metadata": {
        "id": "ZHwk2CySuaOA"
      }
    },
    {
      "cell_type": "code",
      "source": [
        "letters = ['a', 'b', 'c', 'd']\n",
        "second_element = letters[1]\n",
        "print(second_element)"
      ],
      "metadata": {
        "colab": {
          "base_uri": "https://localhost:8080/"
        },
        "id": "7akKM3qWupOO",
        "outputId": "bc6219e8-984f-40dc-839e-7cd82146985a"
      },
      "execution_count": null,
      "outputs": [
        {
          "output_type": "stream",
          "name": "stdout",
          "text": [
            "b\n"
          ]
        }
      ]
    },
    {
      "cell_type": "code",
      "source": [],
      "metadata": {
        "id": "NVQ6we7Hummk"
      },
      "execution_count": null,
      "outputs": []
    },
    {
      "cell_type": "markdown",
      "source": [
        "**Q 10. Write a code to reverse the list [10, 20, 30, 40, 50].**\n",
        "\n",
        "**Ans:**"
      ],
      "metadata": {
        "id": "CZ4OZvAru3Sn"
      }
    },
    {
      "cell_type": "markdown",
      "source": [],
      "metadata": {
        "id": "XB8B2trquaId"
      }
    },
    {
      "cell_type": "code",
      "source": [
        "numbers = [10, 20, 30, 40, 50]\n",
        "numbers.reverse()\n",
        "print(numbers)"
      ],
      "metadata": {
        "colab": {
          "base_uri": "https://localhost:8080/"
        },
        "id": "FW7kDkO8vcZ1",
        "outputId": "c6234194-6632-4a09-85bf-441a0f65037a"
      },
      "execution_count": null,
      "outputs": [
        {
          "output_type": "stream",
          "name": "stdout",
          "text": [
            "[50, 40, 30, 20, 10]\n"
          ]
        }
      ]
    },
    {
      "cell_type": "markdown",
      "source": [
        "**Q 11. Write a code to create a tuple with the elements 100, 200, 300 and print it.**\n",
        "\n",
        "**Ans:**"
      ],
      "metadata": {
        "id": "jHQABz4Sp-Ur"
      }
    },
    {
      "cell_type": "code",
      "source": [
        "my_tuple = (100, 200, 300)\n",
        "print(my_tuple)\n"
      ],
      "metadata": {
        "colab": {
          "base_uri": "https://localhost:8080/"
        },
        "id": "0G5iNNhEs9f_",
        "outputId": "a9fb6ea1-8047-49e7-9c1a-882199a64043"
      },
      "execution_count": 1,
      "outputs": [
        {
          "output_type": "stream",
          "name": "stdout",
          "text": [
            "(100, 200, 300)\n"
          ]
        }
      ]
    },
    {
      "cell_type": "markdown",
      "source": [
        "**Q 12. Write a code to access the second-to-last element of the tuple ('red', 'green', 'blue', 'yellow').**\n",
        "\n",
        "**Ans:**"
      ],
      "metadata": {
        "id": "d4yHStOutLql"
      }
    },
    {
      "cell_type": "code",
      "source": [
        "colors = ('red', 'green', 'blue', 'yellow')\n",
        "second_last = colors[-2]\n",
        "print(second_last)\n"
      ],
      "metadata": {
        "colab": {
          "base_uri": "https://localhost:8080/"
        },
        "id": "vAiSoBMrtV8S",
        "outputId": "443c77c5-18c5-4355-e334-0d3528add6df"
      },
      "execution_count": 2,
      "outputs": [
        {
          "output_type": "stream",
          "name": "stdout",
          "text": [
            "blue\n"
          ]
        }
      ]
    },
    {
      "cell_type": "markdown",
      "source": [
        "**Q 13. Write a code to find the minimum number in the tuple (10, 20, 5, 15).**\n",
        "\n",
        "**Ans:**"
      ],
      "metadata": {
        "id": "KSa73MtNtiQk"
      }
    },
    {
      "cell_type": "code",
      "source": [
        "numbers = (10, 20, 5, 15)\n",
        "min_value = min(numbers)\n",
        "print(min_value)"
      ],
      "metadata": {
        "colab": {
          "base_uri": "https://localhost:8080/"
        },
        "id": "x3OoUIIYts1i",
        "outputId": "ba896deb-7975-4b31-b332-06ee8deede21"
      },
      "execution_count": 3,
      "outputs": [
        {
          "output_type": "stream",
          "name": "stdout",
          "text": [
            "5\n"
          ]
        }
      ]
    },
    {
      "cell_type": "markdown",
      "source": [
        "**Q 14. Write a code to find the index of the element \"cat\" in the tuple ('dog', 'cat', 'rabbit').**\n",
        "\n",
        "**Ans:**"
      ],
      "metadata": {
        "id": "VOVjie_it2_Q"
      }
    },
    {
      "cell_type": "code",
      "source": [
        "animals = ('dog', 'cat', 'rabbit')\n",
        "index_of_cat = animals.index('cat')\n",
        "print(index_of_cat)"
      ],
      "metadata": {
        "colab": {
          "base_uri": "https://localhost:8080/"
        },
        "id": "CQSepkrvt-SX",
        "outputId": "3197e22c-9df4-42ec-96a6-7db071be8e3b"
      },
      "execution_count": 4,
      "outputs": [
        {
          "output_type": "stream",
          "name": "stdout",
          "text": [
            "1\n"
          ]
        }
      ]
    },
    {
      "cell_type": "markdown",
      "source": [
        "**Q 15. Write a code to create a tuple containing three different fruits and check if \"kiwi\" is in it.**\n",
        "\n",
        "**Ans:**"
      ],
      "metadata": {
        "id": "Zvm0FYQfxMWX"
      }
    },
    {
      "cell_type": "code",
      "source": [
        "fruits = ('apple', 'banana', 'orange')\n",
        "is_kiwi_present = 'kiwi' in fruits\n",
        "print(is_kiwi_present)"
      ],
      "metadata": {
        "colab": {
          "base_uri": "https://localhost:8080/"
        },
        "id": "8TlQ2uYN6hNF",
        "outputId": "1534ec84-47b9-492f-bf80-f06d851289c6"
      },
      "execution_count": 5,
      "outputs": [
        {
          "output_type": "stream",
          "name": "stdout",
          "text": [
            "False\n"
          ]
        }
      ]
    },
    {
      "cell_type": "markdown",
      "source": [
        "**Q 16. Write a code to create a set with the elements 'a', 'b', 'c' and print it.**\n",
        "\n",
        "**Ans:**"
      ],
      "metadata": {
        "id": "Em2XTkI36mCW"
      }
    },
    {
      "cell_type": "code",
      "source": [
        "my_set = {'a', 'b', 'c'}\n",
        "print(my_set)"
      ],
      "metadata": {
        "colab": {
          "base_uri": "https://localhost:8080/"
        },
        "id": "nK8J9F616utO",
        "outputId": "d6a979d7-810b-426a-b9de-480e65792782"
      },
      "execution_count": 6,
      "outputs": [
        {
          "output_type": "stream",
          "name": "stdout",
          "text": [
            "{'b', 'c', 'a'}\n"
          ]
        }
      ]
    },
    {
      "cell_type": "markdown",
      "source": [
        "**Q 17. Write a code to clear all elements from the set {1, 2, 3, 4, 5}.**\n",
        "\n",
        "**Ans:**"
      ],
      "metadata": {
        "id": "eCjFPuDv64b3"
      }
    },
    {
      "cell_type": "code",
      "source": [
        "numbers = {1, 2, 3, 4, 5}\n",
        "numbers.clear()\n",
        "print(numbers)"
      ],
      "metadata": {
        "colab": {
          "base_uri": "https://localhost:8080/"
        },
        "id": "BxYD2JCx7DGy",
        "outputId": "63a84890-ea72-4813-e2f0-d1916f56fd48"
      },
      "execution_count": 7,
      "outputs": [
        {
          "output_type": "stream",
          "name": "stdout",
          "text": [
            "set()\n"
          ]
        }
      ]
    },
    {
      "cell_type": "markdown",
      "source": [
        "**Q 18. Write a code to remove the element 4 from the set {1, 2, 3, 4}.**\n",
        "\n",
        "**Ans:**"
      ],
      "metadata": {
        "id": "DPqn4HKY7JN4"
      }
    },
    {
      "cell_type": "code",
      "source": [
        "numbers = {1, 2, 3, 4}\n",
        "numbers.remove(4)\n",
        "print(numbers)"
      ],
      "metadata": {
        "colab": {
          "base_uri": "https://localhost:8080/"
        },
        "id": "FvY_h1MC7QNe",
        "outputId": "c105ca87-3d2f-4510-f598-a4cbbef96a1b"
      },
      "execution_count": 8,
      "outputs": [
        {
          "output_type": "stream",
          "name": "stdout",
          "text": [
            "{1, 2, 3}\n"
          ]
        }
      ]
    },
    {
      "cell_type": "markdown",
      "source": [
        "**Q 19. Write a code to find the union of two sets {1, 2, 3} and {3, 4, 5}.**\n",
        "\n",
        "**Ans:**"
      ],
      "metadata": {
        "id": "pBOLAih87aZz"
      }
    },
    {
      "cell_type": "code",
      "source": [
        "set1 = {1, 2, 3}\n",
        "set2 = {3, 4, 5}\n",
        "union_set = set1.union(set2)\n",
        "print(union_set)"
      ],
      "metadata": {
        "colab": {
          "base_uri": "https://localhost:8080/"
        },
        "id": "aiN6rLbu-VfM",
        "outputId": "7db9182f-cb51-4181-f689-a46c0ca3088c"
      },
      "execution_count": 9,
      "outputs": [
        {
          "output_type": "stream",
          "name": "stdout",
          "text": [
            "{1, 2, 3, 4, 5}\n"
          ]
        }
      ]
    },
    {
      "cell_type": "markdown",
      "source": [
        "**Q 20. Write a code to find the intersection of two sets {1, 2, 3} and {2, 3, 4}.**\n",
        "\n",
        "**Ans:**"
      ],
      "metadata": {
        "id": "Ajcvs9Am-2kM"
      }
    },
    {
      "cell_type": "code",
      "source": [
        "set1 = {1, 2, 3}\n",
        "set2 = {2, 3, 4}\n",
        "intersection_set = set1.intersection(set2)\n",
        "print(intersection_set)"
      ],
      "metadata": {
        "colab": {
          "base_uri": "https://localhost:8080/"
        },
        "id": "sUTKsIfA_BfD",
        "outputId": "3c0d52df-c481-413c-8e5e-4b51e3f1434b"
      },
      "execution_count": 10,
      "outputs": [
        {
          "output_type": "stream",
          "name": "stdout",
          "text": [
            "{2, 3}\n"
          ]
        }
      ]
    },
    {
      "cell_type": "markdown",
      "source": [
        "**Q 21. Write a code to create a dictionary with the keys \"name\", \"age\", and \"city\", and print it.**\n",
        "\n",
        "**Ans:**"
      ],
      "metadata": {
        "id": "bgxCsroE_Ihi"
      }
    },
    {
      "cell_type": "code",
      "source": [
        "person = {\n",
        "    \"name\": \"Alice\",\n",
        "    \"age\": 30,\n",
        "    \"city\": \"New York\"\n",
        "}\n",
        "print(person)"
      ],
      "metadata": {
        "colab": {
          "base_uri": "https://localhost:8080/"
        },
        "id": "-lHW6QpN_PnV",
        "outputId": "e8860841-ec0f-436c-c16a-395d5968ccfa"
      },
      "execution_count": 11,
      "outputs": [
        {
          "output_type": "stream",
          "name": "stdout",
          "text": [
            "{'name': 'Alice', 'age': 30, 'city': 'New York'}\n"
          ]
        }
      ]
    },
    {
      "cell_type": "markdown",
      "source": [
        "**Q 22. Write a code to add a new key-value pair \"country\": \"USA\" to the dictionary {'name': 'John', 'age': 25}.**\n",
        "\n",
        "**Ans:**"
      ],
      "metadata": {
        "id": "3mRoFYp9_Z9S"
      }
    },
    {
      "cell_type": "code",
      "source": [
        "person = {'name': 'John', 'age': 25}\n",
        "person['country'] = 'USA'\n",
        "print(person)"
      ],
      "metadata": {
        "colab": {
          "base_uri": "https://localhost:8080/"
        },
        "id": "yrupkhCr_gpk",
        "outputId": "6e61bd16-144b-406b-c404-e28efe4b8dfb"
      },
      "execution_count": 12,
      "outputs": [
        {
          "output_type": "stream",
          "name": "stdout",
          "text": [
            "{'name': 'John', 'age': 25, 'country': 'USA'}\n"
          ]
        }
      ]
    },
    {
      "cell_type": "markdown",
      "source": [
        "**Q 23. Write a code to access the value associated with the key \"name\" in the dictionary {'name': 'Alice', 'age': 30}.**\n",
        "\n",
        "**Ans:**"
      ],
      "metadata": {
        "id": "d0_PU8haAW7V"
      }
    },
    {
      "cell_type": "code",
      "source": [
        "person = {'name': 'Alice', 'age': 30}\n",
        "name_value = person['name']\n",
        "print(name_value)"
      ],
      "metadata": {
        "colab": {
          "base_uri": "https://localhost:8080/"
        },
        "id": "e-uGhjYrAliA",
        "outputId": "2a2c2fcc-d44f-4eb0-e7c3-771c7dc62e70"
      },
      "execution_count": 13,
      "outputs": [
        {
          "output_type": "stream",
          "name": "stdout",
          "text": [
            "Alice\n"
          ]
        }
      ]
    },
    {
      "cell_type": "markdown",
      "source": [
        "**Q 24. Write a code to remove the key \"age\" from the dictionary {'name': 'Bob', 'age': 22, 'city': 'New York'}.**\n",
        "\n",
        "**Ans:**"
      ],
      "metadata": {
        "id": "-t0K_s9KAx-t"
      }
    },
    {
      "cell_type": "code",
      "source": [
        "person = {'name': 'Bob', 'age': 22, 'city': 'New York'}\n",
        "del person['age']\n",
        "print(person)"
      ],
      "metadata": {
        "colab": {
          "base_uri": "https://localhost:8080/"
        },
        "id": "6pwl0S5RA9J7",
        "outputId": "86bb80cc-9a24-45e5-b0dc-a65041600c28"
      },
      "execution_count": 14,
      "outputs": [
        {
          "output_type": "stream",
          "name": "stdout",
          "text": [
            "{'name': 'Bob', 'city': 'New York'}\n"
          ]
        }
      ]
    },
    {
      "cell_type": "markdown",
      "source": [
        "**Q 25. Write a code to check if the key \"city\" exists in the dictionary {'name': 'Alice', 'city': 'Paris'}.**\n",
        "\n",
        "**Ans:**"
      ],
      "metadata": {
        "id": "-c0UA1bNBMsk"
      }
    },
    {
      "cell_type": "code",
      "source": [
        "person = {'name': 'Alice', 'city': 'Paris'}\n",
        "key_exists = 'city' in person\n",
        "print(key_exists)"
      ],
      "metadata": {
        "colab": {
          "base_uri": "https://localhost:8080/"
        },
        "id": "FIn8ddJoBXUd",
        "outputId": "4e63fc23-b912-4056-fab4-ed10c2a58bb0"
      },
      "execution_count": 15,
      "outputs": [
        {
          "output_type": "stream",
          "name": "stdout",
          "text": [
            "True\n"
          ]
        }
      ]
    },
    {
      "cell_type": "markdown",
      "source": [
        "**Q 26. Write a code to create a list, a tuple, and a dictionary, and print them all.**\n",
        "\n",
        "**Ans:**"
      ],
      "metadata": {
        "id": "jcmLk5U9Bj1Y"
      }
    },
    {
      "cell_type": "code",
      "source": [
        "my_list = [1, 2, 3]\n",
        "my_tuple = ('a', 'b', 'c')\n",
        "my_dict = {'name': 'John', 'age': 28}\n",
        "print(\"List:\", my_list)\n",
        "print(\"Tuple:\", my_tuple)\n",
        "print(\"Dictionary:\", my_dict)"
      ],
      "metadata": {
        "colab": {
          "base_uri": "https://localhost:8080/"
        },
        "id": "oMU707ciBpVS",
        "outputId": "d7bf0765-52da-4464-c278-fdac6c4822bc"
      },
      "execution_count": 16,
      "outputs": [
        {
          "output_type": "stream",
          "name": "stdout",
          "text": [
            "List: [1, 2, 3]\n",
            "Tuple: ('a', 'b', 'c')\n",
            "Dictionary: {'name': 'John', 'age': 28}\n"
          ]
        }
      ]
    },
    {
      "cell_type": "markdown",
      "source": [
        "**Q 27. Write a code to create a list of 5 random numbers between 1 and 100, sort it in ascending order, and print the result (replaced).**\n",
        "\n",
        "**Ans:**"
      ],
      "metadata": {
        "id": "aZy_TtylBym2"
      }
    },
    {
      "cell_type": "code",
      "source": [
        "import random\n",
        "random_numbers = [random.randint(1, 100) for _ in range(5)]\n",
        "random_numbers.sort()\n",
        "print(random_numbers)"
      ],
      "metadata": {
        "colab": {
          "base_uri": "https://localhost:8080/"
        },
        "id": "ncVazvhJCKCb",
        "outputId": "ba8c10cd-5d9e-4ad2-c00f-25772914fc89"
      },
      "execution_count": 17,
      "outputs": [
        {
          "output_type": "stream",
          "name": "stdout",
          "text": [
            "[23, 25, 28, 65, 75]\n"
          ]
        }
      ]
    },
    {
      "cell_type": "markdown",
      "source": [
        "**Q 28. Write a code to create a list with strings and print the element at the third index.**\n",
        "\n",
        "**Ans:**"
      ],
      "metadata": {
        "id": "rq3o8R2MCWQv"
      }
    },
    {
      "cell_type": "code",
      "source": [
        "my_list = ['apple', 'banana', 'cherry', 'date', 'elderberry']\n",
        "print(my_list[3])"
      ],
      "metadata": {
        "colab": {
          "base_uri": "https://localhost:8080/"
        },
        "id": "SdAPZG-RCdRY",
        "outputId": "a9c4274f-8800-433c-9f92-342846bfbe16"
      },
      "execution_count": 18,
      "outputs": [
        {
          "output_type": "stream",
          "name": "stdout",
          "text": [
            "date\n"
          ]
        }
      ]
    },
    {
      "cell_type": "markdown",
      "source": [
        "**Q 29. Write a code to combine two dictionaries into one and print the result.**\n",
        "\n",
        "**Ans:**"
      ],
      "metadata": {
        "id": "nd1bLTGxCoUK"
      }
    },
    {
      "cell_type": "code",
      "source": [
        "dict1 = {'name': 'Alice', 'age': 30}\n",
        "dict2 = {'city': 'Paris', 'country': 'France'}\n",
        "combined_dict = {**dict1, **dict2}\n",
        "print(combined_dict)"
      ],
      "metadata": {
        "colab": {
          "base_uri": "https://localhost:8080/"
        },
        "id": "TQrXvXudCuat",
        "outputId": "4fbc3990-4447-4c61-d919-0719c3224702"
      },
      "execution_count": 19,
      "outputs": [
        {
          "output_type": "stream",
          "name": "stdout",
          "text": [
            "{'name': 'Alice', 'age': 30, 'city': 'Paris', 'country': 'France'}\n"
          ]
        }
      ]
    },
    {
      "cell_type": "markdown",
      "source": [
        "**Q 30. Write a code to convert a list of strings into a set.**\n",
        "\n",
        "**Ans:**"
      ],
      "metadata": {
        "id": "DcPIXCZaC9TO"
      }
    },
    {
      "cell_type": "code",
      "source": [
        "my_list = ['apple', 'banana', 'cherry', 'apple']\n",
        "my_set = set(my_list)\n",
        "print(my_set)"
      ],
      "metadata": {
        "colab": {
          "base_uri": "https://localhost:8080/"
        },
        "id": "_fQTz6kZDF0o",
        "outputId": "5b4e869f-3a9e-42b5-ea18-a5227e83e413"
      },
      "execution_count": 20,
      "outputs": [
        {
          "output_type": "stream",
          "name": "stdout",
          "text": [
            "{'apple', 'banana', 'cherry'}\n"
          ]
        }
      ]
    }
  ]
}