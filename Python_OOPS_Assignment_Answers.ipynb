{
  "nbformat": 4,
  "nbformat_minor": 0,
  "metadata": {
    "colab": {
      "provenance": [],
      "collapsed_sections": [
        "nrNiNBu4xb_a"
      ]
    },
    "kernelspec": {
      "name": "python3",
      "display_name": "Python 3"
    },
    "language_info": {
      "name": "python"
    }
  },
  "cells": [
    {
      "cell_type": "markdown",
      "source": [
        "# Python OOPs Theory"
      ],
      "metadata": {
        "id": "nrNiNBu4xb_a"
      }
    },
    {
      "cell_type": "markdown",
      "source": [
        "**Q 1. What is Object-Oriented Programming (OOP)?**\n",
        "\n",
        "**Ans:**\n"
      ],
      "metadata": {
        "id": "NFyJxyZwxEdG"
      }
    },
    {
      "cell_type": "markdown",
      "source": [
        "Object-Oriented Programming (OOP) is a programming paradigm based on the concept of objects, which contain data (fields) and methods (functions). It emphasizes four main principles: encapsulation, abstraction, inheritance, and polymorphism, making code more modular, reusable, and easier to maintain."
      ],
      "metadata": {
        "id": "_5QZT8wdxaju"
      }
    },
    {
      "cell_type": "markdown",
      "source": [
        "**Q 2. What is a class in OOP?**\n",
        "\n",
        "**Ans:**"
      ],
      "metadata": {
        "id": "gsXaXZNnyogU"
      }
    },
    {
      "cell_type": "markdown",
      "source": [
        "A class in Object-Oriented Programming (OOP) is a blueprint or template for creating objects. It defines the structure and behavior of the objects by specifying their attributes (data) and methods (functions). Objects are instances of classes."
      ],
      "metadata": {
        "id": "u0qo1OE7ziEL"
      }
    },
    {
      "cell_type": "markdown",
      "source": [
        "**Q 3. What is an object in OOP?**\n",
        "\n",
        "**Ans:**"
      ],
      "metadata": {
        "id": "l7ioet9K0WSf"
      }
    },
    {
      "cell_type": "markdown",
      "source": [
        "An object in Object-Oriented Programming (OOP) is an instance of a class. It represents a specific entity with state (data stored in attributes) and behavior (functions or methods). Objects are the basic building blocks in OOP and interact with one another to perform tasks."
      ],
      "metadata": {
        "id": "J9j4jWlg0c_k"
      }
    },
    {
      "cell_type": "markdown",
      "source": [],
      "metadata": {
        "id": "0Gqnzw4u2VHM"
      }
    },
    {
      "cell_type": "markdown",
      "source": [
        "**Q 4. What is the difference between abstraction and encapsulation?**\n",
        "\n",
        "**Ans:**"
      ],
      "metadata": {
        "id": "980MvQgS4UNi"
      }
    },
    {
      "cell_type": "markdown",
      "source": [
        "**Abstraction and encapsulation** are both core concepts in OOP but serve different purposes:\n",
        "\n",
        "*   Abstraction focuses on hiding the complexity and showing only the essential features of an object. It helps in managing complexity by exposing only what is necessary (e.g., using an interface without knowing internal code).\n",
        "\n",
        "*   Encapsulation means wrapping data and methods that operate on that data into a single unit (class) and restricting access to some components. This is usually done using access modifiers (like private, protected, public) to protect object integrity."
      ],
      "metadata": {
        "id": "tIMNVlSV4bjh"
      }
    },
    {
      "cell_type": "markdown",
      "source": [
        "**Q 5. What are dunder methods in Python?**\n",
        "\n",
        "**Ans:**"
      ],
      "metadata": {
        "id": "PciqX7nY7W5K"
      }
    },
    {
      "cell_type": "markdown",
      "source": [
        "In Python, dunder methods (short for \"double underscore\" methods) are special methods that begin and end with double underscores, like \\__init__, \\__str__, or \\__add__. They are also known as magic methods or special methods. These methods enable you to define how your objects behave with built-in operations, such as arithmetic, comparison, iteration, and more. Python invokes these methods implicitly in response to specific operations, allowing your custom classes to integrate seamlessly with the language's features."
      ],
      "metadata": {
        "id": "rcPLn4C2p1gU"
      }
    },
    {
      "cell_type": "markdown",
      "source": [
        "**Q 6. Explain the concept of inheritance in OOP?**\n",
        "\n",
        "**Ans:**"
      ],
      "metadata": {
        "id": "pPVWdfsKsFdd"
      }
    },
    {
      "cell_type": "markdown",
      "source": [
        "**Inheritance** is a fundamental concept in object-oriented programming (OOP) that enables a class (known as a child or subclass) to acquire properties and behaviors (methods and attributes) from another class (called the parent or superclass). This mechanism promotes code reusability, modularity, and establishes hierarchical relationships between classes.\n",
        "\n",
        "**Key Concepts**\n",
        "\n",
        "*   Superclass (Parent Class): The class whose features are inherited.\n",
        "*   Subclass (Child Class): The class that inherits from the superclass.\n",
        "*   Method Overriding: A subclass can provide a specific implementation of a method that is already defined in its superclass.\n",
        "*   Polymorphism: Objects of different subclasses can be treated as objects of the superclass, allowing for flexible code.\n",
        "\n",
        "**Types of Inheritance**\n",
        "\n",
        "*   Single Inheritance: A subclass inherits from one superclass.\n",
        "*   Multiple Inheritance: A subclass inherits from more than one superclass.\n",
        "*   Multilevel Inheritance: A subclass inherits from a superclass, and then another subclass inherits from that subclass, forming a chain.\n",
        "*   Hierarchical Inheritance: Multiple subclasses inherit from a single superclass.\n",
        "*   Hybrid Inheritance: A combination of two or more types of inheritance.\n",
        "\n",
        "**Advantages of Inheritance**\n",
        "\n",
        "*   Code Reusability: Common code can be written in the superclass and reused in subclasses.\n",
        "*   Modularity: Enhances code organization by establishing clear relationships between classes.\n",
        "*   Extensibility: New functionalities can be added with minimal changes to existing code.\n",
        "*   Polymorphic Behavior: Allows for dynamic method binding, enabling flexible and interchangeable object usage.\n",
        "\n",
        "**Considerations**\n",
        "\n",
        "*   Tight Coupling: Subclasses are closely linked to their superclasses, which can lead to fragility in the codebase.\n",
        "*   Fragile Base Class Problem: Changes in the superclass can inadvertently affect all subclasses.\n",
        "*   Complexity with Multiple Inheritance: Can lead to ambiguities, such as the \"diamond problem,\" where the inheritance hierarchy becomes complicated.\n",
        "\n",
        "```\n",
        "#Example in Python\n",
        "class Vehicle:\n",
        "    def start_engine(self):\n",
        "        print(\"Engine started.\")\n",
        "\n",
        "class Car(Vehicle):\n",
        "    def open_trunk(self):\n",
        "        print(\"Trunk opened.\")\n",
        "\n",
        "my_car = Car()\n",
        "my_car.start_engine()  # Inherited from Vehicle\n",
        "my_car.open_trunk()    # Defined in Car\n",
        "```\n",
        "\n",
        "In this example, Car inherits the start_engine method from Vehicle and also defines its own method open_trunk."
      ],
      "metadata": {
        "id": "qe4W3dXQs5n3"
      }
    },
    {
      "cell_type": "markdown",
      "source": [
        "**Q 7. What is polymorphism in OOP?**\n",
        "\n",
        "**Ans:**"
      ],
      "metadata": {
        "id": "3VabTBvOQtnv"
      }
    },
    {
      "cell_type": "markdown",
      "source": [
        "**Polymorphism** is a fundamental concept in object-oriented programming (OOP) that allows objects of different classes to be treated as objects of a common superclass. It enables a single interface to represent different underlying data types, allowing for flexible and reusable code.\n",
        "\n",
        "**Understanding Polymorphism**\n",
        "\n",
        "The term polymorphism is derived from the Greek words poly (meaning \"many\") and morph (meaning \"form\"), signifying \"many forms.\" In OOP, polymorphism allows the same operation to behave differently on different classes. This means that a single function or method can process objects differently depending on their class.\n",
        "\n",
        "**Types of Polymorphism**\n",
        "\n",
        "1.   **Compile-Time Polymorphism (Static Binding):**\n",
        "\n",
        "  * **Method Overloading:** Defining multiple methods with the same name but different parameters within the same class.\n",
        "  \n",
        "  * **Operator Overloading:** Defining custom behavior for operators based on operand types.\n",
        "\n",
        "**Example:**\n",
        "```\n",
        "class Calculator:\n",
        "    def add(self, a, b):\n",
        "        return a + b\n",
        "    def add(self, a, b, c):\n",
        "        return a + b + c\n",
        "```\n",
        "Note: In Python, the last method definition will override the previous ones. However, languages like Java support method overloading.\n",
        "\n",
        "2.   **Run-Time Polymorphism (Dynamic Binding):**\n",
        "\n",
        "  * **Method Overriding:** A subclass provides a specific implementation of a method already defined in its superclass.\n",
        "\n",
        "**Example:**\n",
        "```\n",
        "class Animal:\n",
        "    def speak(self):\n",
        "        print(\"Animal speaks\")\n",
        "\n",
        "class Dog(Animal):\n",
        "    def speak(self):\n",
        "        print(\"Dog barks\")\n",
        "\n",
        "def make_animal_speak(animal):\n",
        "    animal.speak()\n",
        "\n",
        "dog = Dog()\n",
        "make_animal_speak(dog)  # Output: Dog barks\n",
        "```\n",
        "Here, the speak method behaves differently based on the object's class at runtime.\n",
        "\n",
        "**Advantages of Polymorphism**\n",
        "\n",
        "* **Flexibility:** Code can work with objects of different classes seamlessly.\n",
        "* **Reusability:** Common interfaces can be used for different underlying forms.\n",
        "* **Maintainability:** Easier to manage and extend code without modifying existing functionality.\n",
        "\n",
        "**Polymorphism** is a powerful feature in OOP that promotes code flexibility and reusability by allowing the same interface to interact with different underlying data types."
      ],
      "metadata": {
        "id": "YMupBw2TQ2Zs"
      }
    },
    {
      "cell_type": "markdown",
      "source": [
        "**Q 9. How is encapsulation achieved in Python?**\n",
        "\n",
        "**Ans:**"
      ],
      "metadata": {
        "id": "X7mnpaiSs8q0"
      }
    },
    {
      "cell_type": "markdown",
      "source": [
        "**Encapsulation** is a fundamental concept in object-oriented programming (OOP) that involves bundling data (attributes) and methods (functions) that operate on the data into a single unit, typically a class. In Python, encapsulation is achieved through the use of access modifiers that control the visibility and accessibility of class members.\n",
        "\n",
        "**Access Modifiers in Python**\n",
        "Python uses naming conventions to indicate the intended level of access for class members:\n",
        "\n",
        "**1.   Public Members**\n",
        "\n",
        "  * **Definition:** Attributes and methods that are intended to be accessible from anywhere.\n",
        "  * **Syntax:** No leading underscores.\n",
        "\n",
        "**Example:**\n",
        "```\n",
        "class Example:\n",
        "    def __init__(self):\n",
        "        self.data = \"Public Data\"\n",
        "```\n",
        "\n",
        "**2.   Protected Members:**\n",
        "\n",
        "  * **Definition:** Attributes and methods intended for internal use within the class and its subclasses.\n",
        "  * **Syntax:** Single leading underscore (_).\n",
        "\n",
        "**Example:**\n",
        "```\n",
        "class Example:\n",
        "    def __init__(self):\n",
        "        self._data = \"Protected Data\"\n",
        "```\n",
        "\n",
        "**3.  Private Members:**\n",
        "\n",
        "* **Definition:** Attributes and methods intended to be inaccessible from outside the class.\n",
        "\n",
        "* **Syntax:** Double leading underscores (__).\n",
        "\n",
        "Note: Python performs name mangling for private members, changing their names internally to prevent direct access.\n",
        "\n",
        "**Example:**\n",
        "```\n",
        "class Example:\n",
        "    def __init__(self):\n",
        "        self.__data = \"Private Data\"\n",
        "```\n",
        "\n",
        "**Implementing Encapsulation with Getters and Setters**\n",
        "\n",
        "To control access to class attributes, Python provides property decorators that allow you to define getter and setter methods:\n",
        "\n",
        "```\n",
        "class Person:\n",
        "    def __init__(self, name):\n",
        "        self.__name = name  # Private attribute\n",
        "\n",
        "    @property\n",
        "    def name(self):\n",
        "        return self.__name  # Getter method\n",
        "\n",
        "    @name.setter\n",
        "    def name(self, value):\n",
        "        if isinstance(value, str):\n",
        "            self.__name = value  # Setter method with validation\n",
        "        else:\n",
        "            raise ValueError(\"Name must be a string\")\n",
        "\n",
        "person = Person(\"Alice\")\n",
        "print(person.name)  # Access via getter\n",
        "person.name = \"Bob\"  # Modify via setter\n",
        "```\n",
        "In this example, the name attribute is encapsulated within the Person class, and access is controlled through the name property, which includes validation logic in the setter.\n",
        "\n",
        "**Benefits of Encapsulation**\n",
        "\n",
        "* **Data Protection:** Encapsulation restricts direct access to class attributes, preventing unintended modifications and preserving data integrity.\n",
        "\n",
        "* **Modularity:** By bundling data and methods within classes, encapsulation promotes modular code design, making it easier to manage and understand.\n",
        "\n",
        "* **Maintainability:** Encapsulation allows internal implementation details to change without affecting external code that relies on the class interface.\n",
        "\n",
        "* **Controlled Access:** Through the use of getters and setters, encapsulation provides a controlled interface for interacting with class attributes, enabling validation and other logic during access or modification."
      ],
      "metadata": {
        "id": "1vwrYssMIORG"
      }
    },
    {
      "cell_type": "markdown",
      "source": [
        "**Q 10. What are class and static methods in Python?**\n",
        "\n",
        "**Ans:**"
      ],
      "metadata": {
        "id": "BiyWaD2u02RB"
      }
    },
    {
      "cell_type": "markdown",
      "source": [
        "In Python, @classmethod and @staticmethod are decorators that define methods within a class, each serving distinct purposes.\n",
        "\n",
        "**Class Method (@classmethod)**\n",
        "\n",
        "* Binding: Tied to the class, not individual instances.\n",
        "* First Parameter: Receives **cls**, representing the class itself.\n",
        "* Access: Can read and modify class-level data.\n",
        "\n",
        "* Common Uses:\n",
        "  * Factory methods that return class instances.\n",
        "  * Modifying class variables that affect all instances.\n",
        "\n",
        "**Example:**\n",
        "```\n",
        "class Person:\n",
        "    population = 0\n",
        "\n",
        "    def __init__(self, name):\n",
        "        self.name = name\n",
        "        Person.population += 1\n",
        "\n",
        "    @classmethod\n",
        "    def from_birth_year(cls, name, birth_year):\n",
        "        age = 2025 - birth_year\n",
        "        return cls(name)\n",
        "\n",
        "    @classmethod\n",
        "    def get_population(cls):\n",
        "        return cls.population\n",
        "```\n",
        "\n",
        "Here, from_birth_year is a factory method creating a Person instance using a birth year, and get_population accesses a class variable.\n",
        "\n",
        "**Static Method (@staticmethod)**\n",
        "\n",
        "* Binding: Not tied to class or instance; behaves like a regular function within the class's namespace.\n",
        "* First Parameter: Does not receive self or cls.\n",
        "* Access: Cannot access or modify class or instance data.\n",
        "* Common Uses:\n",
        "  * Utility functions related to the class's domain but independent of class or instance data.\n",
        "\n",
        "**Example:**\n",
        "```\n",
        "class MathUtils:\n",
        "    @staticmethod\n",
        "    def add(a, b):\n",
        "        return a + b\n",
        "\n",
        "    @staticmethod\n",
        "    def is_even(number):\n",
        "        return number % 2 == 0\n",
        "```\n",
        "In this example, add and is_even are utility functions that don't rely on class or instance data."
      ],
      "metadata": {
        "id": "RVCqdfsT18V6"
      }
    },
    {
      "cell_type": "markdown",
      "source": [
        "**Q 11. What is method overloading in Python?**\n",
        "\n",
        "**Ans:**"
      ],
      "metadata": {
        "id": "3ncjBaRO_g8Z"
      }
    },
    {
      "cell_type": "markdown",
      "source": [
        "In Python, method overloading refers to the ability to define a method in such a way that it can handle different numbers or types of arguments. Python does not support traditional method overloading where multiple methods with the same name but different signatures coexist. In Python, if you define multiple methods with the same name, the last definition will override the previous ones.\n",
        "\n",
        "**Simulating Method Overloading in Python**\n",
        "\n",
        "Although Python doesn't support method overloading directly, you can achieve similar functionality using the following techniques:\n",
        "\n",
        "* **Default Arguments**\n",
        "\n",
        "  By assigning default values to parameters, you can allow a method to be called with varying numbers of arguments.\n",
        "  ```\n",
        "    def greet(name, age=None):\n",
        "        if age:\n",
        "            print(f\"Hello, {name}! You are {age} years old.\")\n",
        "        else:\n",
        "            print(f\"Hello, {name}!\")\n",
        "\n",
        "    # Usage:\n",
        "    greet(\"Alice\")          # Output: Hello, Alice!\n",
        "    greet(\"Bob\", 30)        # Output: Hello, Bob! You are 30 years old.\n",
        "    ```\n",
        "\n",
        "* **Variable-Length Arguments (\\*args and **kwargs)**\n",
        "\n",
        "  These allow a function to accept an arbitrary number of positional and keyword arguments.\n",
        "    ```\n",
        "    def add(*args):\n",
        "        return sum(args)\n",
        "    #Usage:\n",
        "    print(add(2, 3))             # Output: 5\n",
        "    print(add(1, 2, 3, 4))       # Output: 10\n",
        "    ```\n",
        "* **Using External Libraries (e.g., multipledispatch)**\n",
        "\n",
        "  The multipledispatch library allows you to define multiple versions of a function based on the types of the arguments.\n",
        "    ```\n",
        "    from multipledispatch import dispatch\n",
        "\n",
        "    @dispatch(int, int)\n",
        "    def multiply(a, b):\n",
        "        return a * b\n",
        "\n",
        "    @dispatch(str, int)\n",
        "    def multiply(s, n):\n",
        "        return s * n\n",
        "    Usage:\n",
        "    print(multiply(2, 3))        # Output: 6\n",
        "    print(multiply(\"Hi\", 3))     # Output: HiHiHi\n",
        "    ```\n",
        "\n",
        "Note: You'll need to install the multipledispatch library using pip install multipledispatch .\n",
        "\n",
        "**Benefits of Simulated Method Overloading**\n",
        "\n",
        "* **Flexibility:** Allows functions to handle various input scenarios.\n",
        "* **Code Reusability:** Reduces the need for multiple function names for similar operations.\n",
        "* **Enhanced Readability:** Maintains a clean and intuitive interface for function usage.\n",
        "\n",
        "**Limitations**\n",
        "\n",
        "* **No Native Support:** Python doesn't natively support method overloading; simulations can sometimes lead to less clear code.\n",
        "* **Potential for Errors:** Improper handling of arguments can lead to runtime errors."
      ],
      "metadata": {
        "id": "y5Cd5_LZAHGF"
      }
    },
    {
      "cell_type": "markdown",
      "source": [
        "**Q 12. What is method overriding in OOP?**\n",
        "\n",
        "**Ans:**"
      ],
      "metadata": {
        "id": "AlBiuEYC3rw1"
      }
    },
    {
      "cell_type": "markdown",
      "source": [
        "In object-oriented programming (OOP), method overriding allows a subclass to provide a specific implementation of a method that is already defined in its superclass. This enables polymorphism, where the same method name can exhibit different behaviors based on the object invoking it.\n",
        "\n",
        "**Definition:** Method overriding occurs when a subclass defines a method with the same name and parameters as a method in its superclass, thereby replacing or extending the behavior of the superclass's method.\n",
        "\n",
        "**Purpose:** It allows subclasses to customize or completely replace the behavior of methods inherited from the superclass.\n",
        "\n",
        "**Polymorphism:** Overriding is a key feature that supports runtime polymorphism, enabling objects to respond differently to the same method call depending on their class.\n",
        "\n",
        "In Python, method overriding is straightforward due to its dynamic nature.\n",
        "\n",
        "```\n",
        "class Animal:\n",
        "    def speak(self):\n",
        "        print(\"The animal makes a sound.\")\n",
        "\n",
        "class Dog(Animal):\n",
        "    def speak(self):\n",
        "        print(\"The dog barks.\")\n",
        "\n",
        "# Usage\n",
        "generic_animal = Animal()\n",
        "generic_animal.speak()  # Output: The animal makes a sound.\n",
        "\n",
        "pet = Dog()\n",
        "pet.speak()             # Output: The dog barks.\n",
        "```\n",
        "In this example, the Dog class overrides the speak method of the Animal class to provide a behavior specific to dogs."
      ],
      "metadata": {
        "id": "M1VFk6Mu327Z"
      }
    },
    {
      "cell_type": "markdown",
      "source": [
        "**Q 13. What is a property decorator in Python?**\n",
        "\n",
        "**Ans:**"
      ],
      "metadata": {
        "id": "o9J-FcaP5kP1"
      }
    },
    {
      "cell_type": "markdown",
      "source": [
        "In Python, the @property decorator provides a Pythonic way to manage class attributes by defining methods that can be accessed like regular attributes. This approach allows for encapsulation, enabling you to add logic during attribute access, modification, or deletion without changing the external interface of your class.\n",
        "\n",
        "**What Is the @property Decorator?**\n",
        "\n",
        "The @property decorator transforms a method into a **\"getter\"** for a computed or managed attribute. This means you can access the method as if it were a regular attribute, allowing for cleaner and more intuitive code.\n",
        "\n",
        "**Example:**\n",
        "```\n",
        "class Circle:\n",
        "    def __init__(self, radius):\n",
        "        self._radius = radius\n",
        "\n",
        "    @property\n",
        "    def radius(self):\n",
        "        return self._radius\n",
        "```\n",
        "In this example, radius is accessed like an attribute, but under the hood, it's managed by the radius() method.\n",
        "\n",
        "**Adding Setters and Deleters**\n",
        "\n",
        "To allow setting or deleting a property, you can define corresponding setter and deleter methods using the @\\<property_name>.setter and @\\<property_name>.deleter decorators.\n",
        "\n",
        "**Example:**\n",
        "```\n",
        "class Circle:\n",
        "    def __init__(self, radius):\n",
        "        self._radius = radius\n",
        "\n",
        "    @property\n",
        "    def radius(self):\n",
        "        return self._radius\n",
        "\n",
        "    @radius.setter\n",
        "    def radius(self, value):\n",
        "        if value < 0:\n",
        "            raise ValueError(\"Radius cannot be negative.\")\n",
        "        self._radius = value\n",
        "\n",
        "    @radius.deleter\n",
        "    def radius(self):\n",
        "        del self._radius\n",
        "```\n",
        "This setup allows you to manage the radius attribute with validation and control over its deletion.\n",
        "\n",
        "**Benefits of Using @property**\n",
        "\n",
        "* **Encapsulation:** Control access to private attributes and add logic during get/set operations.\n",
        "* **Cleaner Syntax:** Access methods like attributes, improving code readability.\n",
        "* **Backward Compatibility:** Change internal implementations without affecting external code that uses the class.\n",
        "* **Validation:** Add checks and constraints when setting attribute values.\n",
        "\n",
        "**When to Avoid Using @property**\n",
        "\n",
        "* **Side Effects:** Avoid using properties for methods that perform significant computations or have side effects, as accessing them may lead to unexpected behaviors.\n",
        "* **Complexity:** If the logic within the getter or setter becomes too complex, it might be better to use explicit methods for clarity."
      ],
      "metadata": {
        "id": "M-2jtUVr6LYZ"
      }
    },
    {
      "cell_type": "markdown",
      "source": [
        "Q 14. Why is polymorphism important in OOP?"
      ],
      "metadata": {
        "id": "zTPps_cF8wI1"
      }
    },
    {
      "cell_type": "markdown",
      "source": [
        "**Importance of Polymorphism in OOP**\n",
        "\n",
        "* **Code Reusability:** Polymorphism allows for writing generic code that can work with objects of different types, reducing code duplication and enhancing reusability.\n",
        "\n",
        "* **Flexibility and Extensibility:** It enables the addition of new classes with minimal changes to existing code, as new classes can be integrated seamlessly if they adhere to the expected interface.\n",
        "\n",
        "* **Improved Maintainability:** By decoupling code that uses objects from the specific classes of those objects, polymorphism makes it easier to maintain and update codebases.\n",
        "\n",
        "* **Enhanced Testing:** Polymorphism facilitates the use of mock objects in testing, allowing for the simulation of different behaviors and scenarios without altering the actual codebase.\n",
        "\n",
        "* **Simplified Code Structure:** It promotes cleaner and more intuitive code by allowing the same method call to operate on different types of objects, each responding in its own way."
      ],
      "metadata": {
        "id": "s9KLmD969HVw"
      }
    },
    {
      "cell_type": "markdown",
      "source": [
        "**Q 15. What is an abstract class in Python?**\n",
        "\n",
        "**Ans:**"
      ],
      "metadata": {
        "id": "TqEj5A_v-LXe"
      }
    },
    {
      "cell_type": "markdown",
      "source": [
        "**An abstract class** is a class that cannot be instantiated on its own and is designed to be a blueprint for other classes. It defines methods that must be implemented by its subclasses, ensuring that the subclasses follow a consistent structure.\n",
        "\n",
        "To create an abstract class in Python, you use the **abc** module, which provides the **ABC base class** and the **@abstractmethod decorator**.\n",
        "\n",
        "**Defining an Abstract Class in Python**\n",
        "\n",
        "Here's how you can define an abstract class using the abc module:\n",
        "```\n",
        "from abc import ABC, abstractmethod\n",
        "\n",
        "class Animal(ABC):\n",
        "    @abstractmethod\n",
        "    def make_sound(self):\n",
        "        pass\n",
        "```\n",
        "In this example, Animal is an abstract class with an abstract method make_sound(). Any subclass of Animal must implement the make_sound() method.\n",
        "\n",
        "**Instantiating Abstract Classes**\n",
        "\n",
        "Attempting to instantiate an abstract class directly will raise a TypeError.\n",
        "```\n",
        "animal = Animal()  # Raises TypeError\n",
        "```\n",
        "This is because abstract classes are incomplete by design and require subclasses to provide implementations for their abstract methods.\n",
        "\n",
        "**Implementing Abstract Methods in Subclasses**\n",
        "\n",
        "Subclasses of an abstract class must implement all abstract methods to be instantiable.\n",
        "```\n",
        "class Dog(Animal):\n",
        "    def make_sound(self):\n",
        "        return \"Bark\"\n",
        "\n",
        "dog = Dog()\n",
        "print(dog.make_sound())  # Output: Bark\n",
        "```\n",
        "In this example, Dog is a concrete subclass of Animal that provides an implementation for the make_sound() method, allowing it to be instantiated."
      ],
      "metadata": {
        "id": "I3B2C6o5-UGX"
      }
    },
    {
      "cell_type": "markdown",
      "source": [
        "**Q 16. What are the advantages of OOP?**\n",
        "\n",
        "**Ans:**"
      ],
      "metadata": {
        "id": "tG0dgGozAp2K"
      }
    },
    {
      "cell_type": "markdown",
      "source": [
        "**Object-Oriented Programming (OOP)** is a paradigm that structures software design around objects, which encapsulate both data and behaviors. This approach offers several advantages that enhance code organization, maintainability, and scalability.\n",
        "\n",
        "**Key Advantages of OOP**\n",
        "\n",
        "* **Modularity and Encapsulation**\n",
        "\n",
        "OOP promotes modular design by encapsulating data and functions within objects. This encapsulation allows developers to isolate different parts of a program, making it easier to manage, debug, and maintain. If an issue arises, it's often confined to a specific module or class, simplifying troubleshooting.\n",
        "\n",
        "* **Code Reusability through Inheritance**\n",
        "\n",
        "Inheritance enables new classes to derive properties and behaviors from existing ones. This mechanism reduces code duplication, as common functionality can be defined in a base class and reused across multiple derived classes.\n",
        "\n",
        "* **Flexibility via Polymorphism**\n",
        "\n",
        "Polymorphism allows objects of different classes to be treated as instances of a common superclass. This means a single function can operate on objects of various types, enhancing flexibility and reducing the need for multiple function definitions.\n",
        "\n",
        "* **Improved Maintainability**\n",
        "\n",
        "The modular nature of OOP makes it easier to update and maintain code. Changes in one part of the system can often be made with minimal impact on other parts, reducing the risk of introducing bugs during updates.\n",
        "\n",
        "* **Enhanced Collaboration**\n",
        "\n",
        "By dividing a complex system into discrete objects, OOP facilitates parallel development. Different team members can work on separate classes or modules simultaneously without causing conflicts, improving collaboration efficiency.\n",
        "\n",
        "* **Security through Data Hiding**\n",
        "\n",
        "OOP supports data hiding by restricting access to an object's internal state. This ensures that objects can only be manipulated through well-defined interfaces, protecting the integrity of the data and preventing unintended interference.\n",
        "\n",
        "* **Real-World Modeling**\n",
        "\n",
        "OOP aligns closely with real-world concepts by modeling entities as objects with attributes and behaviors. This natural mapping makes it easier to conceptualize and design complex systems.\n",
        "\n",
        "* **Scalability and Extensibility**\n",
        "\n",
        "OOP's principles support the development of scalable systems. New functionalities can be added with minimal changes to existing code, allowing systems to evolve over time without significant rewrites."
      ],
      "metadata": {
        "id": "dOzXvJR5AxnB"
      }
    },
    {
      "cell_type": "markdown",
      "source": [
        "**Q 17. What is the difference between a class variable and an instance variable?**\n",
        "\n",
        "**Ans:**"
      ],
      "metadata": {
        "id": "3IPfYhujBu9O"
      }
    },
    {
      "cell_type": "markdown",
      "source": [
        "In Python, understanding the distinction between class variables and instance variables is fundamental to effective object-oriented programming. Here's a comprehensive breakdown:\n",
        "\n",
        "**Class Variables**\n",
        "\n",
        "* **Definition:** Variables declared within a class but outside any instance methods.\n",
        "* **Scope:** Shared across all instances of the class.\n",
        "* **Purpose:** Store data common to all instances, such as constants or default values.\n",
        "* **Access:** Accessible via both the class name and instances.\n",
        "\n",
        "**Example:**\n",
        "```\n",
        "  class Dog:\n",
        "      species = \"Canis familiaris\"  # Class variable\n",
        "\n",
        "      def __init__(self, name):\n",
        "          self.name = name  # Instance variable\n",
        "\n",
        "  dog1 = Dog(\"Buddy\")\n",
        "  dog2 = Dog(\"Milo\")\n",
        "\n",
        "  print(dog1.species)  # Output: Canis familiaris\n",
        "  print(dog2.species)  # Output: Canis familiaris\n",
        "```\n",
        "\n",
        "In this example, species is a class variable shared by all instances of the Dog class.\n",
        "\n",
        "**Instance Variables**\n",
        "\n",
        "* **Definition:** Variables declared within methods, typically within the \\__init__ constructor, using self.\n",
        "* **Scope:** Unique to each instance of the class.\n",
        "* **Purpose:** Store data unique to each instance, such as specific attributes.\n",
        "* **Access:** Accessed via the instance using self.variable_name.\n",
        "\n",
        "**Example:**\n",
        "```\n",
        "class Dog:\n",
        "      def __init__(self, name):\n",
        "          self.name = name  # Instance variable\n",
        "\n",
        "  dog1 = Dog(\"Buddy\")\n",
        "  dog2 = Dog(\"Milo\")\n",
        "\n",
        "  print(dog1.name)  # Output: Buddy\n",
        "  print(dog2.name)  # Output: Milo\n",
        "```\n",
        "Here, each Dog instance has its own name attribute.\n"
      ],
      "metadata": {
        "id": "l_O9Oy3GB3es"
      }
    },
    {
      "cell_type": "markdown",
      "source": [
        "**Q 18. What is multiple inheritance in Python?**\n",
        "\n",
        "**Ans:**"
      ],
      "metadata": {
        "id": "weV8jGf0DbMT"
      }
    },
    {
      "cell_type": "markdown",
      "source": [
        "**Multiple inheritance** occurs when a class (known as a child or derived class) inherits from two or more parent (base) classes. This allows the child class to access the attributes and methods of all its parent classes.\n",
        "\n",
        "class Parent1:\n",
        "    # Parent1's attributes and methods\n",
        "class Parent2:\n",
        "    # Parent2's attributes and methods\n",
        "class Child(Parent1, Parent2):\n",
        "    # Child's attributes and methods\n",
        "\n",
        "**Example:**\n",
        "```\n",
        "class Engine:\n",
        "    def start(self):\n",
        "        print(\"Engine started\")\n",
        "\n",
        "class Radio:\n",
        "    def play_music(self):\n",
        "        print(\"Playing music\")\n",
        "\n",
        "class Car(Engine, Radio):\n",
        "    pass\n",
        "\n",
        "my_car = Car()\n",
        "my_car.start()       # Output: Engine started\n",
        "my_car.play_music()  # Output: Playing music\n",
        "```\n",
        "In this example, the Car class inherits from both Engine and Radio, gaining access to their methods."
      ],
      "metadata": {
        "id": "8g8NsAdbDjbr"
      }
    },
    {
      "cell_type": "markdown",
      "source": [
        "Q 19. Explain the purpose of \\__str__ and \\__repr__ methods in Python?"
      ],
      "metadata": {
        "id": "lPg0vc6oj9Oj"
      }
    },
    {
      "cell_type": "markdown",
      "source": [
        "In Python, the \\__str__ and \\__repr__ methods are special (dunder) methods that define how objects are represented as strings. While they might seem similar, they serve distinct purposes and are used in different contexts.\n",
        "\n",
        "**\\__str__:** User-Friendly Representation\n",
        "\n",
        "* **Purpose:** Provides a readable and informal string representation of an object, suitable for end-users.\n",
        "* **Usage:** Invoked by the str() function and the print() statement.\n",
        "* **Fallback:** If \\__str__ is not defined, Python defaults to using \\__repr__.\n",
        "\n",
        "**Example:**\n",
        "```\n",
        "  class Book:\n",
        "      def __init__(self, title, author):\n",
        "          self.title = title\n",
        "          self.author = author\n",
        "\n",
        "      def __str__(self):\n",
        "          return f\"'{self.title}' by {self.author}\"\n",
        "\n",
        "  b = Book(\"1984\", \"George Orwell\")\n",
        "  print(str(b))  # Output: '1984' by George Orwell\n",
        "  ```\n",
        "\n",
        "**\\__repr__:** Developer-Oriented Representation\n",
        "\n",
        "* **Purpose:** Provides an unambiguous and detailed string representation of an object, primarily for debugging and development.\n",
        "* **Usage:** Invoked by the repr() function and when inspecting objects in the interactive interpreter.\n",
        "* **Best Practice:** The returned string should, if possible, be a valid Python expression that could recreate the object.\n",
        "\n",
        "**Example:**\n",
        "```\n",
        "  class Book:\n",
        "      def __init__(self, title, author):\n",
        "          self.title = title\n",
        "          self.author = author\n",
        "\n",
        "      def __repr__(self):\n",
        "          return f\"Book(title='{self.title}', author='{self.author}')\"\n",
        "\n",
        "  b = Book(\"1984\", \"George Orwell\")\n",
        "  print(repr(b))  # Output: Book(title='1984', author='George Orwell')\n",
        "  ```"
      ],
      "metadata": {
        "id": "-xqaM09ak2Fo"
      }
    },
    {
      "cell_type": "markdown",
      "source": [
        "**Q 20. What is the significance of the ‘super()’ function in Python?**\n",
        "\n",
        "**Ans:**"
      ],
      "metadata": {
        "id": "-zdvYMGRqCVt"
      }
    },
    {
      "cell_type": "markdown",
      "source": [
        "**The super() function** in Python is a built-in utility that provides a way to access methods and properties of a parent or sibling class. It's particularly useful in object-oriented programming when dealing with inheritance, allowing for more maintainable and scalable code.\n",
        "\n",
        "**Purpose of super()**\n",
        "\n",
        "* **Accessing Parent Class Methods:** super() allows a subclass to call methods from its parent class without explicitly naming it. This is especially beneficial in complex class hierarchies and when dealing with multiple inheritance.\n",
        "\n",
        "* **Avoiding Hardcoding Parent Class Names:** By using super(), you don't need to explicitly name the parent class, making your code more maintainable and flexible.\n",
        "\n",
        "* **Supporting Multiple Inheritance:** In scenarios with multiple inheritance, super() ensures that each parent class is initialized properly without redundancy.\n",
        "\n",
        "**How super() Works**\n",
        "\n",
        "When you call super(), it returns a proxy object that delegates method calls to a parent or sibling class of the type. This is determined by the method resolution order (MRO), which is the order in which base classes are searched when executing a method.\n",
        "\n",
        "**Example:**\n",
        "```\n",
        "class Parent:\n",
        "    def __init__(self):\n",
        "        print(\"Parent initializer\")\n",
        "\n",
        "class Child(Parent):\n",
        "    def __init__(self):\n",
        "        super().__init__()\n",
        "        print(\"Child initializer\")\n",
        "\n",
        "c = Child()\n",
        "```\n",
        "**Output:**\n",
        "```\n",
        "Parent initializer\n",
        "Child initializer\n",
        "```\n",
        "In this example, super().\\__init__() in the Child class calls the \\__init__ method of the Parent class."
      ],
      "metadata": {
        "id": "wpf21pr6quIE"
      }
    },
    {
      "cell_type": "markdown",
      "source": [
        "**Q 21. What is the significance of the \\__del__ method in Python?**\n",
        "\n",
        "**Ans:**"
      ],
      "metadata": {
        "id": "ixAutacWsMX5"
      }
    },
    {
      "cell_type": "markdown",
      "source": [
        "In Python, the \\__del__ method is a special method known as a destructor. It is invoked when an object is about to be destroyed, typically when its reference count drops to zero. This method allows for the execution of cleanup operations, such as releasing external resources like files or network connections.\n",
        "\n",
        "**Purpose of \\__del__**\n",
        "\n",
        "The primary role of the \\__del__ method is to define behavior for object finalization. When an object is no longer referenced and is about to be garbage collected, Python calls its \\__del__ method (if defined) to perform any necessary cleanup. This can include actions like closing files, releasing network resources, or other housekeeping tasks.\n",
        "\n",
        "**Example:**\n",
        "```\n",
        "class FileHandler:\n",
        "    def __init__(self, filename):\n",
        "        self.file = open(filename, 'w')\n",
        "        print(\"File opened.\")\n",
        "\n",
        "    def __del__(self):\n",
        "        self.file.close()\n",
        "        print(\"File closed.\")\n",
        "\n",
        "handler = FileHandler('example.txt')\n",
        "del handler  # Triggers __del__ method\n",
        "\n",
        "# Output:\n",
        "\n",
        "File opened.\n",
        "File closed.\n",
        "```\n",
        "\n",
        "**Important Considerations**\n",
        "\n",
        "* **Non-Deterministic Timing:** The exact time when \\__del__ is called is not guaranteed. It depends on the garbage collector's behavior, which may vary across Python implementations. Therefore, relying on \\__del__ for timely resource release is discouraged.\n",
        "\n",
        "* **Exceptions in \\__del__:** If an exception occurs within the \\__del__ method, it is ignored and not propagated. This can make debugging difficult, as errors during cleanup may go unnoticed.\n",
        "\n",
        "* **Circular References:** Objects involved in circular references may not have their \\__del__ methods called, as the garbage collector may not be able to determine a safe order for destruction. This can lead to resource leaks.\n",
        "\n",
        "* **Object Resurrection:** If an object is resurrected (i.e., made reachable again) during the execution of its \\__del__ method, it may not be destroyed as expected. To prevent issues, Python ensures that \\__del__ is called only once per object.\n",
        "\n",
        "**Best Practices**\n",
        "\n",
        "* **Use Context Managers:** For managing resources like files or network connections, prefer using context managers (with statements), which provide deterministic cleanup.\n",
        "```\n",
        "  with open('example.txt', 'w') as file:\n",
        "      file.write('Hello, World!')\n",
        "  # File is automatically closed when the block is exited\n",
        "```\n",
        "* **Avoid Complex Logic in \\__del__:** Keep the \\__del__ method simple and avoid operations that might raise exceptions or depend on other objects that may have already been destroyed.\n",
        "\n",
        "* **Be Cautious with Global Variables:** Accessing global variables within \\__del__ can be problematic, especially during interpreter shutdown when globals may have been deleted.\n",
        "\n",
        "In summary, while the \\__del__ method provides a mechanism for object finalization, its non-deterministic nature and potential pitfalls make it less suitable for critical resource management. Instead, using context managers and explicit cleanup methods is recommended for more predictable and reliable resource handling."
      ],
      "metadata": {
        "id": "0oAo0d03sYhW"
      }
    },
    {
      "cell_type": "markdown",
      "source": [
        "**Q 22. What is the difference between @staticmethod and @classmethod in Python?**\n",
        "\n",
        "**Ans:**"
      ],
      "metadata": {
        "id": "lwIP-q6PZ3l4"
      }
    },
    {
      "cell_type": "markdown",
      "source": [
        "In Python, both @staticmethod and @classmethod decorators are used to define methods that are not bound to instances of a class. However, they serve different purposes and have distinct behaviors.\n",
        "\n",
        "\n",
        "| Feature                    | `@staticmethod`   | `@classmethod`                          |                                                                                                             |\n",
        "| -------------------------- | ----------------- | --------------------------------------- | ----------------------------------------------------------------------------------------------------------- |\n",
        "| **Decorator**              | `@staticmethod`   | `@classmethod`                          |                                                                                                             |\n",
        "| **First Parameter**        | None              | `cls` (the class itself)                |                                                                                                             |\n",
        "| **Accesses Class Data**    | No                | Yes                                     |                                                                                                             |\n",
        "| **Accesses Instance Data** | No                | No                                      |                                                                                                             |\n",
        "| **Use Case**               | Utility functions | Factory methods, class-level operations |                                                                                                             |\n",
        "| **Inheritance Support**    | Limited           | Supports inheritance                    |"
      ],
      "metadata": {
        "id": "aYv48X9caKih"
      }
    },
    {
      "cell_type": "markdown",
      "source": [
        "**Q 23. How does polymorphism work in Python with inheritance?**\n",
        "\n",
        "**Ans:**"
      ],
      "metadata": {
        "id": "FHwIQhJzanRV"
      }
    },
    {
      "cell_type": "markdown",
      "source": [
        "**Polymorphism** in Python, when combined with inheritance, allows objects of different subclasses to be treated as instances of their parent class. This enables a unified interface for different object types, promoting code flexibility and extensibility.\n",
        "\n",
        "In Python, polymorphism is primarily achieved through method overriding. A base class defines a method, and subclasses provide their own specific implementations of that method. When a method is called on an object, Python determines which implementation to execute based on the object's actual class, not the reference type.\n",
        "\n",
        "**Example:**\n",
        "```\n",
        "class Animal:\n",
        "    def speak(self):\n",
        "        return \"Some generic animal sound\"\n",
        "\n",
        "class Dog(Animal):\n",
        "    def speak(self):\n",
        "        return \"Bark\"\n",
        "\n",
        "class Cat(Animal):\n",
        "    def speak(self):\n",
        "        return \"Meow\"\n",
        "\n",
        "def make_animal_speak(animal):\n",
        "    print(animal.speak())\n",
        "\n",
        "# Instances of subclasses\n",
        "dog = Dog()\n",
        "cat = Cat()\n",
        "\n",
        "# Polymorphic behavior\n",
        "make_animal_speak(dog)  # Output: Bark\n",
        "make_animal_speak(cat)  # Output: Meow\n",
        "```\n",
        "\n",
        "In this example, the make_animal_speak function accepts any object of type Animal or its subclasses. Despite the function not knowing the exact type of animal, it correctly invokes the overridden speak method of the respective subclass."
      ],
      "metadata": {
        "id": "TXj7pMiLbBgM"
      }
    },
    {
      "cell_type": "markdown",
      "source": [
        "**Q 24. What is method chaining in Python OOP?**\n",
        "\n",
        "**Ans:**"
      ],
      "metadata": {
        "id": "EPF58u26cHxL"
      }
    },
    {
      "cell_type": "markdown",
      "source": [
        "In Python's object-oriented programming (OOP), method chaining is a technique that allows multiple method calls to be linked together in a single, fluent expression. This approach enhances code readability and conciseness by enabling a sequence of operations on the same object without requiring intermediate variables.\n",
        "\n",
        "**Method chaining** involves calling multiple methods sequentially on the same object. Each method returns an object, often the same instance (self), allowing the next method to be called directly.\n",
        "\n",
        "**Example:**\n",
        "```\n",
        "class TextProcessor:\n",
        "    def __init__(self, text):\n",
        "        self.text = text\n",
        "\n",
        "    def remove_whitespace(self):\n",
        "        self.text = self.text.strip()\n",
        "        return self\n",
        "\n",
        "    def to_upper(self):\n",
        "        self.text = self.text.upper()\n",
        "        return self\n",
        "\n",
        "    def replace_word(self, old, new):\n",
        "        self.text = self.text.replace(old, new)\n",
        "        return self\n",
        "\n",
        "    def get_text(self):\n",
        "        return self.text\n",
        "\n",
        "# Usage\n",
        "result = TextProcessor(\"  Hello World  \")\\\n",
        "    .remove_whitespace()\\\n",
        "    .to_upper()\\\n",
        "    .replace_word(\"WORLD\", \"EVERYONE\")\\\n",
        "    .get_text()\n",
        "\n",
        "print(result)  # Output: HELLO EVERYONE\n",
        "```\n",
        "In this example, each method modifies the text attribute and returns the TextProcessor instance, enabling the chaining of subsequent methods.\n",
        "\n",
        "**How It Works**\n",
        "\n",
        "For method chaining to function correctly, each method (except the final one) must return the object itself (self). This practice is common in fluent interfaces and is widely used in libraries like Pandas and frameworks like Django ORM.\n",
        "\n",
        "**Example with Pandas:**\n",
        "```\n",
        "import pandas as pd\n",
        "\n",
        "df = pd.DataFrame({\n",
        "    'Name': ['Alice', 'Bob', 'Charlie'],\n",
        "    'Age': [25, 30, 22]\n",
        "})\n",
        "\n",
        "result = df.dropna().sort_values(by='Age').reset_index(drop=True)\n",
        "```\n",
        "Here, dropna(), sort_values(), and reset_index() are chained to perform a sequence of data transformations on the DataFrame."
      ],
      "metadata": {
        "id": "cYeGO4Y7cdIw"
      }
    },
    {
      "cell_type": "markdown",
      "source": [
        "**Q 25. What is the purpose of the \\__call__ method in Python?**\n",
        "\n",
        "**Ans:**"
      ],
      "metadata": {
        "id": "1blh53xDxBZK"
      }
    },
    {
      "cell_type": "markdown",
      "source": [
        "In Python, the \\__call__ method is a special (or \"magic\") method that allows an instance of a class to be invoked as if it were a regular function. By defining this method within a class, you enable its instances to be \"callable,\" meaning you can use the syntax instance() to execute code defined in the \\__call__ method.\n",
        "\n",
        "**Purpose of \\__call__**\n",
        "\n",
        "The primary purpose of the \\__call__ method is to make class instances behave like functions. This can be particularly useful in scenarios where you want objects to encapsulate both data and behavior, allowing them to be invoked with arguments just like functions. This design pattern is often referred to as creating \"function objects\" or \"functors.\"\n",
        "\n",
        "**Example**\n",
        "```\n",
        "class Greeter:\n",
        "    def __init__(self, name):\n",
        "        self.name = name\n",
        "\n",
        "    def __call__(self, greeting):\n",
        "        return f\"{greeting}, {self.name}!\"\n",
        "\n",
        "greet = Greeter(\"Alice\")\n",
        "print(greet(\"Hello\"))  # Output: Hello, Alice!\n",
        "```\n",
        "In this example, calling greet(\"Hello\") internally invokes greet.__call__(\"Hello\"), returning the customized greeting.\n",
        "\n",
        "**Common Use Cases**\n",
        "\n",
        "* **Stateful Function Objects:** Objects that maintain internal state across multiple calls.\n",
        "\n",
        "```\n",
        "class Counter:\n",
        "    def __init__(self):\n",
        "        self.count = 0\n",
        "\n",
        "    def __call__(self):\n",
        "        self.count += 1\n",
        "        return self.count\n",
        "\n",
        "counter = Counter()\n",
        "print(counter())  # Output: 1\n",
        "print(counter())  # Output: 2\n",
        "```\n",
        "\n",
        "* **Function Factories:** Creating objects that generate functions with specific behaviors based on input parameters.\n",
        "\n",
        "```\n",
        "class Multiplier:\n",
        "    def __init__(self, factor):\n",
        "        self.factor = factor\n",
        "\n",
        "    def __call__(self, value):\n",
        "        return self.factor * value\n",
        "\n",
        "double = Multiplier(2)\n",
        "print(double(5))  # Output: 10\n",
        "```\n",
        "\n",
        "* **Implementing Decorators:** Using classes with \\__call__ to create decorators that can modify the behavior of functions.\n",
        "\n",
        "```\n",
        "class Decorator:\n",
        "    def __init__(self, func):\n",
        "        self.func = func\n",
        "\n",
        "    def __call__(self, *args, **kwargs):\n",
        "        print(\"Before function call\")\n",
        "        result = self.func(*args, **kwargs)\n",
        "        print(\"After function call\")\n",
        "        return result\n",
        "\n",
        "@Decorator\n",
        "def say_hello():\n",
        "    print(\"Hello!\")\n",
        "\n",
        "say_hello()\n",
        "# Output:\n",
        "# Before function call\n",
        "# Hello!\n",
        "# After function call\n",
        "```"
      ],
      "metadata": {
        "id": "lmE6wHpzxnvQ"
      }
    },
    {
      "cell_type": "markdown",
      "source": [
        "# Python OOPs Practical"
      ],
      "metadata": {
        "id": "Dcv5x_c61oup"
      }
    },
    {
      "cell_type": "markdown",
      "source": [
        "1. Create a parent class Animal with a method speak() that prints a generic message. Create a child class Dog that overrides the speak() method to print \"Bark!\"."
      ],
      "metadata": {
        "id": "ggwVz9qX1wKW"
      }
    },
    {
      "cell_type": "code",
      "source": [
        "class Animal:\n",
        "    def speak(self):\n",
        "        print(\"The animal makes a sound.\")\n",
        "\n",
        "class Dog(Animal):\n",
        "    def speak(self):\n",
        "        print(\"Bark!\")\n",
        "\n",
        "# Example usage\n",
        "generic_animal = Animal()\n",
        "generic_animal.speak()  # Output: The animal makes a sound.\n",
        "\n",
        "dog = Dog()\n",
        "dog.speak()  # Output: Bark!"
      ],
      "metadata": {
        "id": "k2mlbHyc2azR",
        "colab": {
          "base_uri": "https://localhost:8080/"
        },
        "outputId": "e951fb91-a72b-4253-a956-fd9158a4005b"
      },
      "execution_count": null,
      "outputs": [
        {
          "output_type": "stream",
          "name": "stdout",
          "text": [
            "The animal makes a sound.\n",
            "Bark!\n"
          ]
        }
      ]
    },
    {
      "cell_type": "markdown",
      "source": [
        "2. Write a program to create an abstract class Shape with a method area(). Derive classes Circle and Rectangle from it and implement the area() method in both."
      ],
      "metadata": {
        "id": "VXWlGsAesjtq"
      }
    },
    {
      "cell_type": "code",
      "source": [
        "from abc import ABC, abstractmethod\n",
        "import math\n",
        "\n",
        "class Shape(ABC):\n",
        "    @abstractmethod\n",
        "    def area(self):\n",
        "        pass\n",
        "\n",
        "class Circle(Shape):\n",
        "    def __init__(self, radius):\n",
        "        self.radius = radius\n",
        "\n",
        "    def area(self):\n",
        "        return math.pi * self.radius ** 2\n",
        "\n",
        "class Rectangle(Shape):\n",
        "    def __init__(self, width, height):\n",
        "        self.width = width\n",
        "        self.height = height\n",
        "\n",
        "    def area(self):\n",
        "        return self.width * self.height\n",
        "\n",
        "# Example usage\n",
        "if __name__ == \"__main__\":\n",
        "    circle = Circle(5)\n",
        "    rectangle = Rectangle(4, 6)\n",
        "\n",
        "    print(f\"Circle area: {circle.area():.2f}\")\n",
        "    print(f\"Rectangle area: {rectangle.area():.2f}\")"
      ],
      "metadata": {
        "colab": {
          "base_uri": "https://localhost:8080/"
        },
        "id": "ursiK81BsuuQ",
        "outputId": "9dca4520-0060-4858-b986-c029ce63afae"
      },
      "execution_count": null,
      "outputs": [
        {
          "output_type": "stream",
          "name": "stdout",
          "text": [
            "Circle area: 78.54\n",
            "Rectangle area: 24.00\n"
          ]
        }
      ]
    },
    {
      "cell_type": "markdown",
      "source": [
        "3. Implement a multi-level inheritance scenario where a class Vehicle has an attribute type. Derive a class Car and further derive a class ElectricCar that adds a battery attribute."
      ],
      "metadata": {
        "id": "CSFELOKDt9vr"
      }
    },
    {
      "cell_type": "code",
      "source": [
        "class Vehicle:\n",
        "    def __init__(self, vehicle_type):\n",
        "        self.vehicle_type = vehicle_type\n",
        "\n",
        "    def display_info(self):\n",
        "        print(f\"Vehicle Type: {self.vehicle_type}\")\n",
        "\n",
        "class Car(Vehicle):\n",
        "    def __init__(self, vehicle_type, brand, model):\n",
        "        super().__init__(vehicle_type)\n",
        "        self.brand = brand\n",
        "        self.model = model\n",
        "\n",
        "    def display_info(self):\n",
        "        super().display_info()\n",
        "        print(f\"Brand: {self.brand}\")\n",
        "        print(f\"Model: {self.model}\")\n",
        "\n",
        "class ElectricCar(Car):\n",
        "    def __init__(self, vehicle_type, brand, model, battery_capacity):\n",
        "        super().__init__(vehicle_type, brand, model)\n",
        "        self.battery_capacity = battery_capacity\n",
        "\n",
        "    def display_info(self):\n",
        "        super().display_info()\n",
        "        print(f\"Battery Capacity: {self.battery_capacity} kWh\")\n",
        "\n",
        "# Example usage\n",
        "if __name__ == \"__main__\":\n",
        "    my_electric_car = ElectricCar(\"Car\", \"Tesla\", \"Model S\", 100)\n",
        "    my_electric_car.display_info()\n"
      ],
      "metadata": {
        "colab": {
          "base_uri": "https://localhost:8080/"
        },
        "id": "x9sySQ6ZupfD",
        "outputId": "afd1f1af-dc95-4a21-8256-66a47dfcc05c"
      },
      "execution_count": null,
      "outputs": [
        {
          "output_type": "stream",
          "name": "stdout",
          "text": [
            "Vehicle Type: Car\n",
            "Brand: Tesla\n",
            "Model: Model S\n",
            "Battery Capacity: 100 kWh\n"
          ]
        }
      ]
    },
    {
      "cell_type": "markdown",
      "source": [
        "4. Demonstrate polymorphism by creating a base class Bird with a method fly(). Create two derived classes Sparrow and Penguin that override the fly() method."
      ],
      "metadata": {
        "id": "Qz9IhhVRuujh"
      }
    },
    {
      "cell_type": "code",
      "source": [
        "class Bird:\n",
        "    def fly(self):\n",
        "        print(\"Some birds can fly.\")\n",
        "\n",
        "class Sparrow(Bird):\n",
        "    def fly(self):\n",
        "        print(\"Sparrow flies high in the sky.\")\n",
        "\n",
        "class Penguin(Bird):\n",
        "    def fly(self):\n",
        "        print(\"Penguins cannot fly, but they swim well.\")\n",
        "\n",
        "# Function demonstrating polymorphism\n",
        "def bird_fly_test(bird):\n",
        "    bird.fly()\n",
        "\n",
        "# Example usage\n",
        "if __name__ == \"__main__\":\n",
        "    generic_bird = Bird()\n",
        "    sparrow = Sparrow()\n",
        "    penguin = Penguin()\n",
        "\n",
        "    bird_fly_test(generic_bird)  # Output: Some birds can fly.\n",
        "    bird_fly_test(sparrow)       # Output: Sparrow flies high in the sky.\n",
        "    bird_fly_test(penguin)       # Output: Penguins cannot fly, but they swim well.\n"
      ],
      "metadata": {
        "colab": {
          "base_uri": "https://localhost:8080/"
        },
        "id": "iZUwXzKVvPcJ",
        "outputId": "33219417-4721-4444-e697-f088058a69d7"
      },
      "execution_count": null,
      "outputs": [
        {
          "output_type": "stream",
          "name": "stdout",
          "text": [
            "Some birds can fly.\n",
            "Sparrow flies high in the sky.\n",
            "Penguins cannot fly, but they swim well.\n"
          ]
        }
      ]
    },
    {
      "cell_type": "markdown",
      "source": [
        "5. Write a program to demonstrate encapsulation by creating a class BankAccount with private attributes balance and methods to deposit, withdraw, and check balance."
      ],
      "metadata": {
        "id": "BKKdyHlMvUZC"
      }
    },
    {
      "cell_type": "code",
      "source": [
        "class BankAccount:\n",
        "    def __init__(self, initial_balance=0.0):\n",
        "        self.__balance = initial_balance  # Private attribute\n",
        "\n",
        "    def deposit(self, amount):\n",
        "        if amount > 0:\n",
        "            self.__balance += amount\n",
        "            print(f\"Deposited: ₹{amount:.2f}\")\n",
        "        else:\n",
        "            print(\"Deposit amount must be positive.\")\n",
        "\n",
        "    def withdraw(self, amount):\n",
        "        if amount <= 0:\n",
        "            print(\"Withdrawal amount must be positive.\")\n",
        "        elif amount > self.__balance:\n",
        "            print(\"Insufficient balance.\")\n",
        "        else:\n",
        "            self.__balance -= amount\n",
        "            print(f\"Withdrew: ₹{amount:.2f}\")\n",
        "\n",
        "    def get_balance(self):\n",
        "        return self.__balance\n",
        "\n",
        "# Example usage\n",
        "if __name__ == \"__main__\":\n",
        "    account = BankAccount(1000.0)\n",
        "    print(f\"Initial Balance: ₹{account.get_balance():.2f}\")\n",
        "    account.deposit(500.0)\n",
        "    account.withdraw(200.0)\n",
        "    print(f\"Final Balance: ₹{account.get_balance():.2f}\")\n"
      ],
      "metadata": {
        "colab": {
          "base_uri": "https://localhost:8080/"
        },
        "id": "Kmrjyiq1vssk",
        "outputId": "f135968b-0130-431c-da12-d601f50cf62a"
      },
      "execution_count": null,
      "outputs": [
        {
          "output_type": "stream",
          "name": "stdout",
          "text": [
            "Initial Balance: ₹1000.00\n",
            "Deposited: ₹500.00\n",
            "Withdrew: ₹200.00\n",
            "Final Balance: ₹1300.00\n"
          ]
        }
      ]
    },
    {
      "cell_type": "markdown",
      "source": [
        "6. Demonstrate runtime polymorphism using a method play() in a base class Instrument. Derive classes Guitar and Piano that implement their own version of play()."
      ],
      "metadata": {
        "id": "uXei3IyLvx_2"
      }
    },
    {
      "cell_type": "code",
      "source": [
        "class Instrument:\n",
        "    def play(self):\n",
        "        print(\"Playing an instrument.\")\n",
        "\n",
        "class Guitar(Instrument):\n",
        "    def play(self):\n",
        "        print(\"Strumming the guitar.\")\n",
        "\n",
        "class Piano(Instrument):\n",
        "    def play(self):\n",
        "        print(\"Playing the piano.\")\n",
        "\n",
        "# Function to demonstrate polymorphism\n",
        "def perform(instrument):\n",
        "    instrument.play()\n",
        "\n",
        "# Example usage\n",
        "if __name__ == \"__main__\":\n",
        "    instruments = [Guitar(), Piano(), Instrument()]\n",
        "    for instr in instruments:\n",
        "        perform(instr)\n"
      ],
      "metadata": {
        "colab": {
          "base_uri": "https://localhost:8080/"
        },
        "id": "mlzv-NFAwBio",
        "outputId": "4ec179b3-95ea-419b-bd42-9b83c893877f"
      },
      "execution_count": null,
      "outputs": [
        {
          "output_type": "stream",
          "name": "stdout",
          "text": [
            "Strumming the guitar.\n",
            "Playing the piano.\n",
            "Playing an instrument.\n"
          ]
        }
      ]
    },
    {
      "cell_type": "markdown",
      "source": [
        "7. Create a class MathOperations with a class method add_numbers() to add two numbers and a static\n",
        "method subtract_numbers() to subtract two numbers."
      ],
      "metadata": {
        "id": "8jqkJII5w6_q"
      }
    },
    {
      "cell_type": "code",
      "source": [
        "class MathOperations:\n",
        "    @classmethod\n",
        "    def add_numbers(cls, num1, num2):\n",
        "        \"\"\"\n",
        "        Adds two numbers.\n",
        "\n",
        "        Args:\n",
        "            num1 (int or float): The first number.\n",
        "            num2 (int or float): The second number.\n",
        "\n",
        "        Returns:\n",
        "            int or float: The sum of the two numbers.\n",
        "        \"\"\"\n",
        "        return num1 + num2\n",
        "\n",
        "    @staticmethod\n",
        "    def subtract_numbers(num1, num2):\n",
        "        \"\"\"\n",
        "        Subtracts two numbers.\n",
        "\n",
        "        Args:\n",
        "            num1 (int or float): The number to subtract from.\n",
        "            num2 (int or float): The number to subtract.\n",
        "\n",
        "        Returns:\n",
        "            int or float: The difference between the two numbers.\n",
        "        \"\"\"\n",
        "        return num1 - num2\n",
        "\n",
        "# Example Usage:\n",
        "if __name__ == \"__main__\":\n",
        "    # Using the class method to add numbers\n",
        "    sum_result = MathOperations.add_numbers(10, 5)\n",
        "    print(f\"Sum of 10 and 5: {sum_result}\")\n",
        "\n",
        "    # Using the static method to subtract numbers\n",
        "    difference_result = MathOperations.subtract_numbers(10, 5)\n",
        "    print(f\"Difference of 10 and 5: {difference_result}\")\n",
        "\n",
        "    sum_result_float = MathOperations.add_numbers(7.5, 3.2)\n",
        "    print(f\"Sum of 7.5 and 3.2: {sum_result_float}\")\n",
        "\n",
        "    difference_result_float = MathOperations.subtract_numbers(15.0, 4.8)\n",
        "    print(f\"Difference of 15.0 and 4.8: {difference_result_float}\")"
      ],
      "metadata": {
        "colab": {
          "base_uri": "https://localhost:8080/"
        },
        "id": "eEeo9crGxa-T",
        "outputId": "8d178e55-793d-422b-b7a4-9bf7e5069ce0"
      },
      "execution_count": null,
      "outputs": [
        {
          "output_type": "stream",
          "name": "stdout",
          "text": [
            "Sum of 10 and 5: 15\n",
            "Difference of 10 and 5: 5\n",
            "Sum of 7.5 and 3.2: 10.7\n",
            "Difference of 15.0 and 4.8: 10.2\n"
          ]
        }
      ]
    },
    {
      "cell_type": "markdown",
      "source": [
        "8. Implement a class Person with a class method to count the total number of persons created."
      ],
      "metadata": {
        "id": "ilnFoBlGxgrn"
      }
    },
    {
      "cell_type": "code",
      "source": [
        "class Person:\n",
        "    # Class variable to store the total count of Person objects\n",
        "    total_persons = 0\n",
        "\n",
        "    def __init__(self, name, age):\n",
        "        self.name = name\n",
        "        self.age = age\n",
        "        # Increment the counter each time a new Person object is created\n",
        "        Person.total_persons += 1\n",
        "\n",
        "    @classmethod\n",
        "    def get_total_persons(cls):\n",
        "        \"\"\"\n",
        "        Returns the total number of Person objects created.\n",
        "        \"\"\"\n",
        "        return cls.total_persons\n",
        "\n",
        "# --- Example Usage ---\n",
        "if __name__ == \"__main__\":\n",
        "    print(f\"Initial total persons: {Person.get_total_persons()}\") # Output: 0\n",
        "\n",
        "    person1 = Person(\"Alice\", 30)\n",
        "    print(f\"After creating person1: {Person.get_total_persons()}\") # Output: 1\n",
        "\n",
        "    person2 = Person(\"Bob\", 25)\n",
        "    person3 = Person(\"Charlie\", 35)\n",
        "    print(f\"After creating person2 and person3: {Person.get_total_persons()}\") # Output: 3\n",
        "\n",
        "    person4 = Person(\"David\", 40)\n",
        "    print(f\"Current total persons: {Person.get_total_persons()}\") # Output: 4"
      ],
      "metadata": {
        "colab": {
          "base_uri": "https://localhost:8080/"
        },
        "id": "lb6D8ScMx4MS",
        "outputId": "4d0dc0b6-5028-45fb-99cf-4f1ab6207ec7"
      },
      "execution_count": null,
      "outputs": [
        {
          "output_type": "stream",
          "name": "stdout",
          "text": [
            "Initial total persons: 0\n",
            "After creating person1: 1\n",
            "After creating person2 and person3: 3\n",
            "Current total persons: 4\n"
          ]
        }
      ]
    },
    {
      "cell_type": "markdown",
      "source": [
        "9. Write a class Fraction with attributes numerator and denominator. Override the str method to display the fraction as \"numerator/denominator\"."
      ],
      "metadata": {
        "id": "dBoCL_pIx9og"
      }
    },
    {
      "cell_type": "code",
      "source": [
        "class Fraction:\n",
        "    def __init__(self, numerator, denominator):\n",
        "        \"\"\"\n",
        "        Initializes a Fraction object.\n",
        "\n",
        "        Args:\n",
        "            numerator (int): The numerator of the fraction.\n",
        "            denominator (int): The denominator of the fraction.\n",
        "                               Must not be zero.\n",
        "        Raises:\n",
        "            ValueError: If the denominator is zero.\n",
        "        \"\"\"\n",
        "        if denominator == 0:\n",
        "            raise ValueError(\"Denominator cannot be zero.\")\n",
        "        self.numerator = numerator\n",
        "        self.denominator = denominator\n",
        "\n",
        "    def __str__(self):\n",
        "        \"\"\"\n",
        "        Returns a string representation of the fraction in the format \"numerator/denominator\".\n",
        "        \"\"\"\n",
        "        return f\"{self.numerator}/{self.denominator}\"\n",
        "\n",
        "# Example Usage:\n",
        "if __name__ == \"__main__\":\n",
        "    # Create Fraction objects\n",
        "    fraction1 = Fraction(3, 4)\n",
        "    fraction2 = Fraction(1, 2)\n",
        "    fraction3 = Fraction(7, 1) # Represents 7/1\n",
        "\n",
        "    # Print the fractions (this will automatically call the __str__ method)\n",
        "    print(f\"Fraction 1: {fraction1}\")\n",
        "    print(f\"Fraction 2: {fraction2}\")\n",
        "    print(f\"Fraction 3: {fraction3}\")\n",
        "\n",
        "    # You can also explicitly convert to a string\n",
        "    str_fraction1 = str(fraction1)\n",
        "    print(f\"Fraction 1 as string: {str_fraction1}\")\n",
        "\n",
        "    # Example with a negative numerator\n",
        "    fraction_negative = Fraction(-5, 8)\n",
        "    print(f\"Negative fraction: {fraction_negative}\")\n",
        "\n",
        "    # Example with a negative denominator (though typically normalized, __str__ just reflects attributes)\n",
        "    fraction_den_negative = Fraction(3, -4)\n",
        "    print(f\"Fraction with negative denominator: {fraction_den_negative}\")\n",
        "\n",
        "    try:\n",
        "        invalid_fraction = Fraction(1, 0)\n",
        "    except ValueError as e:\n",
        "        print(f\"Error creating invalid fraction: {e}\")"
      ],
      "metadata": {
        "colab": {
          "base_uri": "https://localhost:8080/"
        },
        "id": "0J-PkbZtyQ0q",
        "outputId": "38cb619c-51fb-4cb6-ce66-7e3e0e88ba1b"
      },
      "execution_count": null,
      "outputs": [
        {
          "output_type": "stream",
          "name": "stdout",
          "text": [
            "Fraction 1: 3/4\n",
            "Fraction 2: 1/2\n",
            "Fraction 3: 7/1\n",
            "Fraction 1 as string: 3/4\n",
            "Negative fraction: -5/8\n",
            "Fraction with negative denominator: 3/-4\n",
            "Error creating invalid fraction: Denominator cannot be zero.\n"
          ]
        }
      ]
    },
    {
      "cell_type": "markdown",
      "source": [
        "10. Demonstrate operator overloading by creating a class Vector and overriding the add method to add two vectors."
      ],
      "metadata": {
        "id": "HO4ejSNtySKT"
      }
    },
    {
      "cell_type": "code",
      "source": [
        "class Vector:\n",
        "    def __init__(self, x, y):\n",
        "        \"\"\"\n",
        "        Initializes a 2D Vector with x and y components.\n",
        "        \"\"\"\n",
        "        self.x = x\n",
        "        self.y = y\n",
        "\n",
        "    def __str__(self):\n",
        "        \"\"\"\n",
        "        Returns a string representation of the Vector in the format (x, y).\n",
        "        This is helpful for printing Vector objects.\n",
        "        \"\"\"\n",
        "        return f\"({self.x}, {self.y})\"\n",
        "\n",
        "    def __add__(self, other):\n",
        "        \"\"\"\n",
        "        Overrides the addition operator (+) for Vector objects.\n",
        "        Adds two vectors component-wise.\n",
        "\n",
        "        Args:\n",
        "            other (Vector): The other Vector object to add.\n",
        "\n",
        "        Returns:\n",
        "            Vector: A new Vector object representing the sum of the two vectors.\n",
        "        \"\"\"\n",
        "        if not isinstance(other, Vector):\n",
        "            raise TypeError(\"Can only add a Vector object to another Vector object.\")\n",
        "\n",
        "        new_x = self.x + other.x\n",
        "        new_y = self.y + other.y\n",
        "        return Vector(new_x, new_y)\n",
        "\n",
        "# --- Demonstration ---\n",
        "if __name__ == \"__main__\":\n",
        "    # Create two Vector objects\n",
        "    vector1 = Vector(2, 3)\n",
        "    vector2 = Vector(5, 1)\n",
        "\n",
        "    print(f\"Vector 1: {vector1}\")\n",
        "    print(f\"Vector 2: {vector2}\")\n",
        "\n",
        "    # Add the two vectors using the overloaded '+' operator\n",
        "    # This calls the __add__ method internally\n",
        "    vector_sum = vector1 + vector2\n",
        "    print(f\"Vector 1 + Vector 2 = {vector_sum}\")\n",
        "\n",
        "    # Another example\n",
        "    vector3 = Vector(-1, 7)\n",
        "    vector4 = Vector(4, -2)\n",
        "    print(f\"Vector 3: {vector3}\")\n",
        "    print(f\"Vector 4: {vector4}\")\n",
        "    vector_sum2 = vector3 + vector4\n",
        "    print(f\"Vector 3 + Vector 4 = {vector_sum2}\")\n",
        "\n",
        "    # Attempt to add a Vector to a non-Vector object (will raise TypeError)\n",
        "    try:\n",
        "        result_error = vector1 + 10\n",
        "    except TypeError as e:\n",
        "        print(f\"\\nError: {e}\")\n",
        "\n",
        "    try:\n",
        "        result_error_list = vector2 + [1, 2]\n",
        "    except TypeError as e:\n",
        "        print(f\"Error: {e}\")"
      ],
      "metadata": {
        "colab": {
          "base_uri": "https://localhost:8080/"
        },
        "id": "znrwOpP3yfFs",
        "outputId": "473001f2-2ef7-433c-8c1c-691a3d93c4b4"
      },
      "execution_count": null,
      "outputs": [
        {
          "output_type": "stream",
          "name": "stdout",
          "text": [
            "Vector 1: (2, 3)\n",
            "Vector 2: (5, 1)\n",
            "Vector 1 + Vector 2 = (7, 4)\n",
            "Vector 3: (-1, 7)\n",
            "Vector 4: (4, -2)\n",
            "Vector 3 + Vector 4 = (3, 5)\n",
            "\n",
            "Error: Can only add a Vector object to another Vector object.\n",
            "Error: Can only add a Vector object to another Vector object.\n"
          ]
        }
      ]
    },
    {
      "cell_type": "markdown",
      "source": [
        "11. Create a class Person with attributes name and age. Add a method greet() that prints \"Hello, my name is {name} and I am {age} years old.''"
      ],
      "metadata": {
        "id": "IkmMBnMxykqZ"
      }
    },
    {
      "cell_type": "code",
      "source": [
        "class Person:\n",
        "    def __init__(self, name, age):\n",
        "        \"\"\"\n",
        "        Initializes a Person object with a given name and age.\n",
        "\n",
        "        Args:\n",
        "            name (str): The name of the person.\n",
        "            age (int): The age of the person.\n",
        "        \"\"\"\n",
        "        self.name = name\n",
        "        self.age = age\n",
        "\n",
        "    def greet(self):\n",
        "        \"\"\"\n",
        "        Prints a greeting message including the person's name and age.\n",
        "        \"\"\"\n",
        "        print(f\"Hello, my name is {self.name} and I am {self.age} years old.\")\n",
        "\n",
        "# --- Example Usage ---\n",
        "if __name__ == \"__main__\":\n",
        "    # Create instances of the Person class\n",
        "    person1 = Person(\"Alice\", 30)\n",
        "    person2 = Person(\"Bob\", 24)\n",
        "    person3 = Person(\"Charlie\", 45)\n",
        "\n",
        "    # Call the greet() method for each person\n",
        "    person1.greet()\n",
        "    person2.greet()\n",
        "    person3.greet()\n",
        "\n",
        "    # You can also change attributes and then greet again\n",
        "    person1.age = 31\n",
        "    print(\"\\nAfter Alice's birthday:\")\n",
        "    person1.greet()"
      ],
      "metadata": {
        "colab": {
          "base_uri": "https://localhost:8080/"
        },
        "id": "9gzMJ0EQy5Eg",
        "outputId": "f983aeec-c045-472a-c136-474d5301f654"
      },
      "execution_count": null,
      "outputs": [
        {
          "output_type": "stream",
          "name": "stdout",
          "text": [
            "Hello, my name is Alice and I am 30 years old.\n",
            "Hello, my name is Bob and I am 24 years old.\n",
            "Hello, my name is Charlie and I am 45 years old.\n",
            "\n",
            "After Alice's birthday:\n",
            "Hello, my name is Alice and I am 31 years old.\n"
          ]
        }
      ]
    },
    {
      "cell_type": "markdown",
      "source": [
        "12. Implement a class Student with attributes name and grades. Create a method average_grade() to compute the average of the grades."
      ],
      "metadata": {
        "id": "55-e2DOty_IJ"
      }
    },
    {
      "cell_type": "code",
      "source": [
        "class Student:\n",
        "    def __init__(self, name, grades):\n",
        "        \"\"\"\n",
        "        Initializes a Student object.\n",
        "\n",
        "        Args:\n",
        "            name (str): The name of the student.\n",
        "            grades (list): A list of numerical grades (integers or floats).\n",
        "        \"\"\"\n",
        "        self.name = name\n",
        "        # It's good practice to make a copy of the list to avoid external modifications\n",
        "        self.grades = list(grades)\n",
        "\n",
        "    def average_grade(self):\n",
        "        \"\"\"\n",
        "        Computes and returns the average of the student's grades.\n",
        "\n",
        "        Returns:\n",
        "            float: The average grade, or 0.0 if there are no grades.\n",
        "        \"\"\"\n",
        "        if not self.grades:  # Check if the grades list is empty\n",
        "            return 0.0\n",
        "        return sum(self.grades) / len(self.grades)\n",
        "\n",
        "# --- Example Usage ---\n",
        "if __name__ == \"__main__\":\n",
        "    # Create instances of the Student class\n",
        "    student1 = Student(\"Alice\", [85, 90, 78, 92, 88])\n",
        "    student2 = Student(\"Bob\", [70, 65, 80])\n",
        "    student3 = Student(\"Charlie\", []) # Student with no grades yet\n",
        "    student4 = Student(\"David\", [95.5, 89.0, 92.5])\n",
        "\n",
        "    # Calculate and print the average grade for each student\n",
        "    print(f\"{student1.name}'s grades: {student1.grades}\")\n",
        "    print(f\"{student1.name}'s average grade: {student1.average_grade():.2f}\") # .2f for 2 decimal places\n",
        "\n",
        "    print(f\"\\n{student2.name}'s grades: {student2.grades}\")\n",
        "    print(f\"{student2.name}'s average grade: {student2.average_grade():.2f}\")\n",
        "\n",
        "    print(f\"\\n{student3.name}'s grades: {student3.grades}\")\n",
        "    print(f\"{student3.name}'s average grade: {student3.average_grade():.2f}\")\n",
        "\n",
        "    print(f\"\\n{student4.name}'s grades: {student4.grades}\")\n",
        "    print(f\"{student4.name}'s average grade: {student4.average_grade():.2f}\")\n",
        "\n",
        "    # Demonstrate adding grades later\n",
        "    print(f\"\\n--- Adding grades to Alice ---\")\n",
        "    student1.grades.append(95)\n",
        "    print(f\"{student1.name}'s updated grades: {student1.grades}\")\n",
        "    print(f\"{student1.name}'s new average grade: {student1.average_grade():.2f}\")"
      ],
      "metadata": {
        "colab": {
          "base_uri": "https://localhost:8080/"
        },
        "id": "RZH0siCFzVm2",
        "outputId": "34090d91-b5f9-4cdd-8b16-b5ef08918890"
      },
      "execution_count": null,
      "outputs": [
        {
          "output_type": "stream",
          "name": "stdout",
          "text": [
            "Alice's grades: [85, 90, 78, 92, 88]\n",
            "Alice's average grade: 86.60\n",
            "\n",
            "Bob's grades: [70, 65, 80]\n",
            "Bob's average grade: 71.67\n",
            "\n",
            "Charlie's grades: []\n",
            "Charlie's average grade: 0.00\n",
            "\n",
            "David's grades: [95.5, 89.0, 92.5]\n",
            "David's average grade: 92.33\n",
            "\n",
            "--- Adding grades to Alice ---\n",
            "Alice's updated grades: [85, 90, 78, 92, 88, 95]\n",
            "Alice's new average grade: 88.00\n"
          ]
        }
      ]
    },
    {
      "cell_type": "markdown",
      "source": [
        "13. Create a class Rectangle with methods set_dimensions() to set the dimensions and area() to calculate the area."
      ],
      "metadata": {
        "id": "qpu7jN8UzbaF"
      }
    },
    {
      "cell_type": "code",
      "source": [
        "class Student:\n",
        "    def __init__(self, name, grades):\n",
        "        \"\"\"\n",
        "        Initializes a Student object.\n",
        "\n",
        "        Args:\n",
        "            name (str): The name of the student.\n",
        "            grades (list): A list of numerical grades (integers or floats).\n",
        "        \"\"\"\n",
        "        self.name = name\n",
        "        # It's good practice to make a copy of the list to avoid external modifications\n",
        "        self.grades = list(grades)\n",
        "\n",
        "    def average_grade(self):\n",
        "        \"\"\"\n",
        "        Computes and returns the average of the student's grades.\n",
        "\n",
        "        Returns:\n",
        "            float: The average grade, or 0.0 if there are no grades.\n",
        "        \"\"\"\n",
        "        if not self.grades:  # Check if the grades list is empty\n",
        "            return 0.0\n",
        "        return sum(self.grades) / len(self.grades)\n",
        "\n",
        "# --- Example Usage ---\n",
        "if __name__ == \"__main__\":\n",
        "    # Create instances of the Student class\n",
        "    student1 = Student(\"Alice\", [85, 90, 78, 92, 88])\n",
        "    student2 = Student(\"Bob\", [70, 65, 80])\n",
        "    student3 = Student(\"Charlie\", []) # Student with no grades yet\n",
        "    student4 = Student(\"David\", [95.5, 89.0, 92.5])\n",
        "\n",
        "    # Calculate and print the average grade for each student\n",
        "    print(f\"{student1.name}'s grades: {student1.grades}\")\n",
        "    print(f\"{student1.name}'s average grade: {student1.average_grade():.2f}\") # .2f for 2 decimal places\n",
        "\n",
        "    print(f\"\\n{student2.name}'s grades: {student2.grades}\")\n",
        "    print(f\"{student2.name}'s average grade: {student2.average_grade():.2f}\")\n",
        "\n",
        "    print(f\"\\n{student3.name}'s grades: {student3.grades}\")\n",
        "    print(f\"{student3.name}'s average grade: {student3.average_grade():.2f}\")\n",
        "\n",
        "    print(f\"\\n{student4.name}'s grades: {student4.grades}\")\n",
        "    print(f\"{student4.name}'s average grade: {student4.average_grade():.2f}\")\n",
        "\n",
        "    # Demonstrate adding grades later\n",
        "    print(f\"\\n--- Adding grades to Alice ---\")\n",
        "    student1.grades.append(95)\n",
        "    print(f\"{student1.name}'s updated grades: {student1.grades}\")\n",
        "    print(f\"{student1.name}'s new average grade: {student1.average_grade():.2f}\")"
      ],
      "metadata": {
        "colab": {
          "base_uri": "https://localhost:8080/"
        },
        "id": "Riy-HzV0ziaj",
        "outputId": "2e3b9702-1e51-4520-99c4-d6790da3bfef"
      },
      "execution_count": null,
      "outputs": [
        {
          "output_type": "stream",
          "name": "stdout",
          "text": [
            "Alice's grades: [85, 90, 78, 92, 88]\n",
            "Alice's average grade: 86.60\n",
            "\n",
            "Bob's grades: [70, 65, 80]\n",
            "Bob's average grade: 71.67\n",
            "\n",
            "Charlie's grades: []\n",
            "Charlie's average grade: 0.00\n",
            "\n",
            "David's grades: [95.5, 89.0, 92.5]\n",
            "David's average grade: 92.33\n",
            "\n",
            "--- Adding grades to Alice ---\n",
            "Alice's updated grades: [85, 90, 78, 92, 88, 95]\n",
            "Alice's new average grade: 88.00\n"
          ]
        }
      ]
    },
    {
      "cell_type": "markdown",
      "source": [
        "14. Create a class Employee with a method calculate_salary() that computes the salary based on hours worked and hourly rate. Create a derived class Manager that adds a bonus to the salary."
      ],
      "metadata": {
        "id": "Ux2cXqx4zoLK"
      }
    },
    {
      "cell_type": "code",
      "source": [
        "class Employee:\n",
        "    def __init__(self, name, hourly_rate):\n",
        "        \"\"\"\n",
        "        Initializes an Employee object.\n",
        "\n",
        "        Args:\n",
        "            name (str): The name of the employee.\n",
        "            hourly_rate (float): The employee's hourly rate.\n",
        "        \"\"\"\n",
        "        self.name = name\n",
        "        self.hourly_rate = hourly_rate\n",
        "\n",
        "    def calculate_salary(self, hours_worked):\n",
        "        \"\"\"\n",
        "        Computes the salary based on hours worked and hourly rate.\n",
        "\n",
        "        Args:\n",
        "            hours_worked (float): The number of hours the employee worked.\n",
        "\n",
        "        Returns:\n",
        "            float: The calculated salary.\n",
        "        \"\"\"\n",
        "        if hours_worked < 0:\n",
        "            raise ValueError(\"Hours worked cannot be negative.\")\n",
        "        return self.hourly_rate * hours_worked\n",
        "\n",
        "    def __str__(self):\n",
        "        return f\"Employee: {self.name}, Hourly Rate: ${self.hourly_rate:.2f}\"\n",
        "\n",
        "\n",
        "class Manager(Employee):\n",
        "    def __init__(self, name, hourly_rate, bonus):\n",
        "        \"\"\"\n",
        "        Initializes a Manager object, inheriting from Employee.\n",
        "\n",
        "        Args:\n",
        "            name (str): The name of the manager.\n",
        "            hourly_rate (float): The manager's hourly rate.\n",
        "            bonus (float): The manager's bonus amount.\n",
        "        \"\"\"\n",
        "        super().__init__(name, hourly_rate)  # Call the parent class's constructor\n",
        "        self.bonus = bonus\n",
        "\n",
        "    def calculate_salary(self, hours_worked):\n",
        "        \"\"\"\n",
        "        Overrides the calculate_salary method to include a bonus.\n",
        "\n",
        "        Args:\n",
        "            hours_worked (float): The number of hours the manager worked.\n",
        "\n",
        "        Returns:\n",
        "            float: The calculated salary including the bonus.\n",
        "        \"\"\"\n",
        "        # Call the parent class's calculate_salary method to get the base salary\n",
        "        base_salary = super().calculate_salary(hours_worked)\n",
        "        return base_salary + self.bonus\n",
        "\n",
        "    def __str__(self):\n",
        "        return f\"Manager: {self.name}, Hourly Rate: ${self.hourly_rate:.2f}, Bonus: ${self.bonus:.2f}\"\n",
        "\n",
        "\n",
        "# --- Demonstration ---\n",
        "if __name__ == \"__main__\":\n",
        "    print(\"--- Employee Salary Calculation ---\")\n",
        "    employee1 = Employee(\"Alice Smith\", 25.0)\n",
        "    hours_e1 = 160\n",
        "    salary_e1 = employee1.calculate_salary(hours_e1)\n",
        "    print(employee1)\n",
        "    print(f\"Hours worked: {hours_e1}\")\n",
        "    print(f\"Calculated Salary: ${salary_e1:.2f}\\n\")\n",
        "\n",
        "    employee2 = Employee(\"Bob Johnson\", 30.0)\n",
        "    hours_e2 = 150.5\n",
        "    salary_e2 = employee2.calculate_salary(hours_e2)\n",
        "    print(employee2)\n",
        "    print(f\"Hours worked: {hours_e2}\")\n",
        "    print(f\"Calculated Salary: ${salary_e2:.2f}\\n\")\n",
        "\n",
        "    print(\"--- Manager Salary Calculation (with Bonus) ---\")\n",
        "    manager1 = Manager(\"Carol White\", 40.0, 1000.0) # $1000 bonus\n",
        "    hours_m1 = 160\n",
        "    salary_m1 = manager1.calculate_salary(hours_m1)\n",
        "    print(manager1)\n",
        "    print(f\"Hours worked: {hours_m1}\")\n",
        "    print(f\"Calculated Salary: ${salary_m1:.2f}\\n\")\n",
        "\n",
        "    manager2 = Manager(\"David Green\", 35.0, 500.0) # $500 bonus\n",
        "    hours_m2 = 170\n",
        "    salary_m2 = manager2.calculate_salary(hours_m2)\n",
        "    print(manager2)\n",
        "    print(f\"Hours worked: {hours_m2}\")\n",
        "    print(f\"Calculated Salary: ${salary_m2:.2f}\\n\")\n",
        "\n",
        "    # Demonstrate polymorphic behavior\n",
        "    print(\"--- Polymorphic Behavior ---\")\n",
        "    staff = [employee1, manager1, employee2, manager2]\n",
        "    for person in staff:\n",
        "        # The correct calculate_salary method (Employee or Manager) will be called\n",
        "        # based on the object's actual type.\n",
        "        some_hours = 160 # Using a fixed number of hours for demonstration\n",
        "        print(f\"{person.name}'s type: {type(person).__name__}\")\n",
        "        print(f\"Salary for {some_hours} hours: ${person.calculate_salary(some_hours):.2f}\\n\")"
      ],
      "metadata": {
        "colab": {
          "base_uri": "https://localhost:8080/"
        },
        "id": "VIjOAYQXzviw",
        "outputId": "9f398774-3e63-4816-bf89-cbb942831824"
      },
      "execution_count": null,
      "outputs": [
        {
          "output_type": "stream",
          "name": "stdout",
          "text": [
            "--- Employee Salary Calculation ---\n",
            "Employee: Alice Smith, Hourly Rate: $25.00\n",
            "Hours worked: 160\n",
            "Calculated Salary: $4000.00\n",
            "\n",
            "Employee: Bob Johnson, Hourly Rate: $30.00\n",
            "Hours worked: 150.5\n",
            "Calculated Salary: $4515.00\n",
            "\n",
            "--- Manager Salary Calculation (with Bonus) ---\n",
            "Manager: Carol White, Hourly Rate: $40.00, Bonus: $1000.00\n",
            "Hours worked: 160\n",
            "Calculated Salary: $7400.00\n",
            "\n",
            "Manager: David Green, Hourly Rate: $35.00, Bonus: $500.00\n",
            "Hours worked: 170\n",
            "Calculated Salary: $6450.00\n",
            "\n",
            "--- Polymorphic Behavior ---\n",
            "Alice Smith's type: Employee\n",
            "Salary for 160 hours: $4000.00\n",
            "\n",
            "Carol White's type: Manager\n",
            "Salary for 160 hours: $7400.00\n",
            "\n",
            "Bob Johnson's type: Employee\n",
            "Salary for 160 hours: $4800.00\n",
            "\n",
            "David Green's type: Manager\n",
            "Salary for 160 hours: $6100.00\n",
            "\n"
          ]
        }
      ]
    },
    {
      "cell_type": "markdown",
      "source": [
        "15. Create a class Product with attributes name, price, and quantity. Implement a method total_price() that calculates the total price of the product."
      ],
      "metadata": {
        "id": "epUFErykz9t6"
      }
    },
    {
      "cell_type": "code",
      "source": [
        "class Product:\n",
        "    def __init__(self, name, price, quantity):\n",
        "        \"\"\"\n",
        "        Initializes a Product object.\n",
        "\n",
        "        Args:\n",
        "            name (str): The name of the product.\n",
        "            price (float or int): The price per unit of the product.\n",
        "            quantity (int): The quantity of the product.\n",
        "        \"\"\"\n",
        "        if not isinstance(name, str) or not name:\n",
        "            raise ValueError(\"Product name must be a non-empty string.\")\n",
        "        if not isinstance(price, (int, float)) or price < 0:\n",
        "            raise ValueError(\"Product price must be a non-negative number.\")\n",
        "        if not isinstance(quantity, int) or quantity < 0:\n",
        "            raise ValueError(\"Product quantity must be a non-negative integer.\")\n",
        "\n",
        "        self.name = name\n",
        "        self.price = float(price) # Ensure price is stored as float for calculations\n",
        "        self.quantity = quantity\n",
        "\n",
        "    def total_price(self):\n",
        "        \"\"\"\n",
        "        Calculates the total price of the product (price * quantity).\n",
        "\n",
        "        Returns:\n",
        "            float: The total price.\n",
        "        \"\"\"\n",
        "        return self.price * self.quantity\n",
        "\n",
        "    def __str__(self):\n",
        "        \"\"\"\n",
        "        Returns a string representation of the Product object.\n",
        "        \"\"\"\n",
        "        return f\"Product: {self.name}, Price: ${self.price:.2f}, Quantity: {self.quantity}\"\n",
        "\n",
        "# --- Example Usage ---\n",
        "if __name__ == \"__main__\":\n",
        "    # Create some Product objects\n",
        "    product1 = Product(\"Laptop\", 1200.50, 2)\n",
        "    product2 = Product(\"Mouse\", 25.00, 5)\n",
        "    product3 = Product(\"Keyboard\", 75.99, 1)\n",
        "    product4 = Product(\"Monitor\", 300, 0) # An item with 0 quantity\n",
        "\n",
        "    # Calculate and display total prices\n",
        "    print(product1)\n",
        "    print(f\"Total price for {product1.name}: ${product1.total_price():.2f}\\n\")\n",
        "\n",
        "    print(product2)\n",
        "    print(f\"Total price for {product2.name}: ${product2.total_price():.2f}\\n\")\n",
        "\n",
        "    print(product3)\n",
        "    print(f\"Total price for {product3.name}: ${product3.total_price():.2f}\\n\")\n",
        "\n",
        "    print(product4)\n",
        "    print(f\"Total price for {product4.name}: ${product4.total_price():.2f}\\n\")\n",
        "\n",
        "    # Demonstrate updating quantity and re-calculating total price\n",
        "    print(\"--- After updating quantity ---\")\n",
        "    product1.quantity = 3\n",
        "    print(product1)\n",
        "    print(f\"New total price for {product1.name}: ${product1.total_price():.2f}\\n\")\n",
        "\n",
        "    # Demonstrate invalid product creation\n",
        "    try:\n",
        "        invalid_product_price = Product(\"Book\", -10.0, 2)\n",
        "    except ValueError as e:\n",
        "        print(f\"Error creating product: {e}\")\n",
        "\n",
        "    try:\n",
        "        invalid_product_quantity = Product(\"Pen\", 1.0, -5)\n",
        "    except ValueError as e:\n",
        "        print(f\"Error creating product: {e}\")\n",
        "\n",
        "    try:\n",
        "        invalid_product_name = Product(\"\", 50.0, 1)\n",
        "    except ValueError as e:\n",
        "        print(f\"Error creating product: {e}\")"
      ],
      "metadata": {
        "colab": {
          "base_uri": "https://localhost:8080/"
        },
        "id": "frB0Nvh00eE6",
        "outputId": "a986ecd2-4dfa-4ee7-d8e9-a8fb310efd8e"
      },
      "execution_count": null,
      "outputs": [
        {
          "output_type": "stream",
          "name": "stdout",
          "text": [
            "Product: Laptop, Price: $1200.50, Quantity: 2\n",
            "Total price for Laptop: $2401.00\n",
            "\n",
            "Product: Mouse, Price: $25.00, Quantity: 5\n",
            "Total price for Mouse: $125.00\n",
            "\n",
            "Product: Keyboard, Price: $75.99, Quantity: 1\n",
            "Total price for Keyboard: $75.99\n",
            "\n",
            "Product: Monitor, Price: $300.00, Quantity: 0\n",
            "Total price for Monitor: $0.00\n",
            "\n",
            "--- After updating quantity ---\n",
            "Product: Laptop, Price: $1200.50, Quantity: 3\n",
            "New total price for Laptop: $3601.50\n",
            "\n",
            "Error creating product: Product price must be a non-negative number.\n",
            "Error creating product: Product quantity must be a non-negative integer.\n",
            "Error creating product: Product name must be a non-empty string.\n"
          ]
        }
      ]
    },
    {
      "cell_type": "markdown",
      "source": [
        "16. Create a class Animal with an abstract method sound(). Create two derived classes Cow and Sheep that implement the sound() method."
      ],
      "metadata": {
        "id": "TknOJgTN0oS1"
      }
    },
    {
      "cell_type": "code",
      "source": [
        "from abc import ABC, abstractmethod\n",
        "\n",
        "# 16. Create a class Animal with an abstract method sound().\n",
        "class Animal(ABC):\n",
        "    \"\"\"\n",
        "    Abstract base class for animals.\n",
        "    Defines an abstract method 'sound' that must be implemented by subclasses.\n",
        "    \"\"\"\n",
        "    def __init__(self, name):\n",
        "        self.name = name\n",
        "\n",
        "    @abstractmethod\n",
        "    def sound(self):\n",
        "        \"\"\"\n",
        "        Abstract method to represent the sound an animal makes.\n",
        "        Subclasses must implement this method.\n",
        "        \"\"\"\n",
        "        pass # No implementation in the abstract base class\n",
        "\n",
        "    def display_info(self):\n",
        "        \"\"\"\n",
        "        A concrete method in the abstract base class.\n",
        "        \"\"\"\n",
        "        print(f\"I am a {self.__class__.__name__} named {self.name}.\")\n",
        "\n",
        "# Create two derived classes Cow and Sheep that implement the sound() method.\n",
        "class Cow(Animal):\n",
        "    \"\"\"\n",
        "    Concrete class representing a Cow, derived from Animal.\n",
        "    Implements the abstract 'sound' method.\n",
        "    \"\"\"\n",
        "    def __init__(self, name):\n",
        "        super().__init__(name)\n",
        "\n",
        "    def sound(self):\n",
        "        \"\"\"\n",
        "        Implements the sound for a Cow.\n",
        "        \"\"\"\n",
        "        return \"Moo!\"\n",
        "\n",
        "class Sheep(Animal):\n",
        "    \"\"\"\n",
        "    Concrete class representing a Sheep, derived from Animal.\n",
        "    Implements the abstract 'sound' method.\n",
        "    \"\"\"\n",
        "    def __init__(self, name):\n",
        "        super().__init__(name)\n",
        "\n",
        "    def sound(self):\n",
        "        \"\"\"\n",
        "        Implements the sound for a Sheep.\n",
        "        \"\"\"\n",
        "        return \"Baa!\"\n",
        "\n",
        "# --- Demonstration ---\n",
        "if __name__ == \"__main__\":\n",
        "    # You cannot instantiate an abstract class directly\n",
        "    # try:\n",
        "    #     abstract_animal = Animal(\"Generic Animal\")\n",
        "    # except TypeError as e:\n",
        "    #     print(f\"Error: {e}\\n\")\n",
        "\n",
        "    # Create instances of the concrete derived classes\n",
        "    cow1 = Cow(\"Betsy\")\n",
        "    sheep1 = Sheep(\"Shaun\")\n",
        "    cow2 = Cow(\"Daisy\")\n",
        "\n",
        "    print(f\"{cow1.name} says: {cow1.sound()}\")\n",
        "    cow1.display_info() # Calling a concrete method from the base class\n",
        "    print(\"-\" * 20)\n",
        "\n",
        "    print(f\"{sheep1.name} says: {sheep1.sound()}\")\n",
        "    sheep1.display_info()\n",
        "    print(\"-\" * 20)\n",
        "\n",
        "    print(f\"{cow2.name} says: {cow2.sound()}\")\n",
        "    cow2.display_info()\n",
        "    print(\"-\" * 20)\n",
        "\n",
        "    # Polymorphism: A list of Animal objects, calling sound() on each\n",
        "    farm_animals = [cow1, sheep1, cow2]\n",
        "    print(\"\\n--- Sounds on the Farm ---\")\n",
        "    for animal in farm_animals:\n",
        "        print(f\"{animal.name} ({animal.__class__.__name__}) says: {animal.sound()}\")"
      ],
      "metadata": {
        "colab": {
          "base_uri": "https://localhost:8080/"
        },
        "id": "ZX5lDpzj0zDN",
        "outputId": "c37f71a9-902f-49b0-e70c-d8f1e2b77b74"
      },
      "execution_count": null,
      "outputs": [
        {
          "output_type": "stream",
          "name": "stdout",
          "text": [
            "Betsy says: Moo!\n",
            "I am a Cow named Betsy.\n",
            "--------------------\n",
            "Shaun says: Baa!\n",
            "I am a Sheep named Shaun.\n",
            "--------------------\n",
            "Daisy says: Moo!\n",
            "I am a Cow named Daisy.\n",
            "--------------------\n",
            "\n",
            "--- Sounds on the Farm ---\n",
            "Betsy (Cow) says: Moo!\n",
            "Shaun (Sheep) says: Baa!\n",
            "Daisy (Cow) says: Moo!\n"
          ]
        }
      ]
    },
    {
      "cell_type": "markdown",
      "source": [
        "17. Create a class Book with attributes title, author, and year_published. Add a method get_book_info() that returns a formatted string with the book's details."
      ],
      "metadata": {
        "id": "mFPcnJnJ06K9"
      }
    },
    {
      "cell_type": "code",
      "source": [
        "class Book:\n",
        "    def __init__(self, title, author, year_published):\n",
        "        \"\"\"\n",
        "        Initializes a Book object.\n",
        "\n",
        "        Args:\n",
        "            title (str): The title of the book.\n",
        "            author (str): The author of the book.\n",
        "            year_published (int): The year the book was published.\n",
        "        \"\"\"\n",
        "        # Basic validation for attributes\n",
        "        if not isinstance(title, str) or not title.strip():\n",
        "            raise ValueError(\"Title must be a non-empty string.\")\n",
        "        if not isinstance(author, str) or not author.strip():\n",
        "            raise ValueError(\"Author must be a non-empty string.\")\n",
        "        if not isinstance(year_published, int) or year_published <= 0:\n",
        "            raise ValueError(\"Year published must be a positive integer.\")\n",
        "\n",
        "        self.title = title\n",
        "        self.author = author\n",
        "        self.year_published = year_published\n",
        "\n",
        "    def get_book_info(self):\n",
        "        \"\"\"\n",
        "        Returns a formatted string containing the book's details.\n",
        "\n",
        "        Returns:\n",
        "            str: A string like \"Title: The Great Gatsby, Author: F. Scott Fitzgerald, Year: 1925\"\n",
        "        \"\"\"\n",
        "        return f\"Title: {self.title}, Author: {self.author}, Year: {self.year_published}\"\n",
        "\n",
        "    def __str__(self):\n",
        "        \"\"\"\n",
        "        Provides a user-friendly string representation when the Book object is printed.\n",
        "        \"\"\"\n",
        "        return self.get_book_info()\n",
        "\n",
        "# --- Example Usage ---\n",
        "if __name__ == \"__main__\":\n",
        "    # Create instances of the Book class\n",
        "    book1 = Book(\"1984\", \"George Orwell\", 1949)\n",
        "    book2 = Book(\"To Kill a Mockingbird\", \"Harper Lee\", 1960)\n",
        "    book3 = Book(\"Pride and Prejudice\", \"Jane Austen\", 1813)\n",
        "\n",
        "    # Get and print book information using the method\n",
        "    print(\"--- Book Information using get_book_info() ---\")\n",
        "    print(book1.get_book_info())\n",
        "    print(book2.get_book_info())\n",
        "    print(book3.get_book_info())\n",
        "\n",
        "    print(\"\\n--- Book Information by simply printing the object (uses __str__) ---\")\n",
        "    print(book1)\n",
        "    print(book2)\n",
        "    print(book3)\n",
        "\n",
        "    # Demonstrate invalid book creation\n",
        "    print(\"\\n--- Testing Invalid Book Creation ---\")\n",
        "    try:\n",
        "        invalid_book1 = Book(\"\", \"Unknown\", 2000)\n",
        "    except ValueError as e:\n",
        "        print(f\"Error: {e}\")\n",
        "\n",
        "    try:\n",
        "        invalid_book2 = Book(\"Valid Title\", \" \", 1990)\n",
        "    except ValueError as e:\n",
        "        print(f\"Error: {e}\")\n",
        "\n",
        "    try:\n",
        "        invalid_book3 = Book(\"Valid Title\", \"Valid Author\", -50)\n",
        "    except ValueError as e:\n",
        "        print(f\"Error: {e}\")"
      ],
      "metadata": {
        "colab": {
          "base_uri": "https://localhost:8080/"
        },
        "id": "bWZcZqPx1Ahh",
        "outputId": "6a57fd6c-befb-438b-c8f5-98e4045b27c6"
      },
      "execution_count": null,
      "outputs": [
        {
          "output_type": "stream",
          "name": "stdout",
          "text": [
            "--- Book Information using get_book_info() ---\n",
            "Title: 1984, Author: George Orwell, Year: 1949\n",
            "Title: To Kill a Mockingbird, Author: Harper Lee, Year: 1960\n",
            "Title: Pride and Prejudice, Author: Jane Austen, Year: 1813\n",
            "\n",
            "--- Book Information by simply printing the object (uses __str__) ---\n",
            "Title: 1984, Author: George Orwell, Year: 1949\n",
            "Title: To Kill a Mockingbird, Author: Harper Lee, Year: 1960\n",
            "Title: Pride and Prejudice, Author: Jane Austen, Year: 1813\n",
            "\n",
            "--- Testing Invalid Book Creation ---\n",
            "Error: Title must be a non-empty string.\n",
            "Error: Author must be a non-empty string.\n",
            "Error: Year published must be a positive integer.\n"
          ]
        }
      ]
    },
    {
      "cell_type": "markdown",
      "source": [
        "18. Create a class House with attributes address and price. Create a derived class Mansion that adds an attribute number_of_rooms."
      ],
      "metadata": {
        "id": "400ZeqIH1Gtb"
      }
    },
    {
      "cell_type": "code",
      "source": [
        "class House:\n",
        "    def __init__(self, address, price):\n",
        "        \"\"\"\n",
        "        Initializes a House object.\n",
        "\n",
        "        Args:\n",
        "            address (str): The address of the house.\n",
        "            price (float): The price of the house.\n",
        "        \"\"\"\n",
        "        if not isinstance(address, str) or not address.strip():\n",
        "            raise ValueError(\"Address must be a non-empty string.\")\n",
        "        if not isinstance(price, (int, float)) or price < 0:\n",
        "            raise ValueError(\"Price must be a non-negative number.\")\n",
        "\n",
        "        self.address = address\n",
        "        self.price = float(price) # Ensure price is stored as float\n",
        "\n",
        "    def get_info(self):\n",
        "        \"\"\"\n",
        "        Returns a formatted string with the house's address and price.\n",
        "        \"\"\"\n",
        "        return f\"Address: {self.address}, Price: ${self.price:,.2f}\"\n",
        "\n",
        "    def __str__(self):\n",
        "        \"\"\"\n",
        "        Provides a user-friendly string representation when the House object is printed.\n",
        "        \"\"\"\n",
        "        return self.get_info()\n",
        "\n",
        "\n",
        "class Mansion(House):\n",
        "    def __init__(self, address, price, number_of_rooms):\n",
        "        \"\"\"\n",
        "        Initializes a Mansion object, inheriting from House and adding number_of_rooms.\n",
        "\n",
        "        Args:\n",
        "            address (str): The address of the mansion.\n",
        "            price (float): The price of the mansion.\n",
        "            number_of_rooms (int): The number of rooms in the mansion.\n",
        "        \"\"\"\n",
        "        # Call the parent class's constructor to initialize address and price\n",
        "        super().__init__(address, price)\n",
        "\n",
        "        if not isinstance(number_of_rooms, int) or number_of_rooms <= 0:\n",
        "            raise ValueError(\"Number of rooms must be a positive integer.\")\n",
        "        self.number_of_rooms = number_of_rooms\n",
        "\n",
        "    def get_info(self):\n",
        "        \"\"\"\n",
        "        Overrides the get_info method to include the number of rooms for a Mansion.\n",
        "        \"\"\"\n",
        "        # Get the base house info from the parent class\n",
        "        base_info = super().get_info()\n",
        "        return f\"{base_info}, Rooms: {self.number_of_rooms}\"\n",
        "\n",
        "    # __str__ method is inherited from House, and it calls get_info(),\n",
        "    # so printing a Mansion object will automatically use the overridden get_info().\n",
        "\n",
        "\n",
        "# --- Demonstration ---\n",
        "if __name__ == \"__main__\":\n",
        "    print(\"--- House Objects ---\")\n",
        "    house1 = House(\"123 Main St, Anytown\", 350000.00)\n",
        "    house2 = House(\"456 Oak Ave, Somewhere\", 280000)\n",
        "\n",
        "    print(house1)\n",
        "    print(house2)\n",
        "\n",
        "    print(\"\\n--- Mansion Objects ---\")\n",
        "    mansion1 = Mansion(\"789 Grand Blvd, Elite City\", 5500000.00, 15)\n",
        "    mansion2 = Mansion(\"101 Luxury Lane, Hilltop\", 2750000, 8)\n",
        "\n",
        "    print(mansion1)\n",
        "    print(mansion2)\n",
        "\n",
        "    print(\"\\n--- Accessing specific attributes ---\")\n",
        "    print(f\"{mansion1.address} has {mansion1.number_of_rooms} rooms.\")\n",
        "    print(f\"{house2.address} costs ${house2.price:,.2f}.\")\n",
        "\n",
        "    print(\"\\n--- Polymorphic behavior in a list ---\")\n",
        "    properties = [house1, mansion1, house2, mansion2]\n",
        "    for prop in properties:\n",
        "        # The correct get_info() method (House or Mansion) will be called\n",
        "        # based on the object's actual type.\n",
        "        print(prop)\n",
        "\n",
        "    print(\"\\n--- Testing Invalid Object Creation ---\")\n",
        "    try:\n",
        "        invalid_house_price = House(\"Invalid Address\", -100)\n",
        "    except ValueError as e:\n",
        "        print(f\"Error: {e}\")\n",
        "\n",
        "    try:\n",
        "        invalid_mansion_rooms = Mansion(\"Valid Address\", 1000000, 0)\n",
        "    except ValueError as e:\n",
        "        print(f\"Error: {e}\")"
      ],
      "metadata": {
        "colab": {
          "base_uri": "https://localhost:8080/"
        },
        "id": "DEtiehH91MTv",
        "outputId": "34986bbb-dee9-4321-922d-801e0c3aed27"
      },
      "execution_count": null,
      "outputs": [
        {
          "output_type": "stream",
          "name": "stdout",
          "text": [
            "--- House Objects ---\n",
            "Address: 123 Main St, Anytown, Price: $350,000.00\n",
            "Address: 456 Oak Ave, Somewhere, Price: $280,000.00\n",
            "\n",
            "--- Mansion Objects ---\n",
            "Address: 789 Grand Blvd, Elite City, Price: $5,500,000.00, Rooms: 15\n",
            "Address: 101 Luxury Lane, Hilltop, Price: $2,750,000.00, Rooms: 8\n",
            "\n",
            "--- Accessing specific attributes ---\n",
            "789 Grand Blvd, Elite City has 15 rooms.\n",
            "456 Oak Ave, Somewhere costs $280,000.00.\n",
            "\n",
            "--- Polymorphic behavior in a list ---\n",
            "Address: 123 Main St, Anytown, Price: $350,000.00\n",
            "Address: 789 Grand Blvd, Elite City, Price: $5,500,000.00, Rooms: 15\n",
            "Address: 456 Oak Ave, Somewhere, Price: $280,000.00\n",
            "Address: 101 Luxury Lane, Hilltop, Price: $2,750,000.00, Rooms: 8\n",
            "\n",
            "--- Testing Invalid Object Creation ---\n",
            "Error: Price must be a non-negative number.\n",
            "Error: Number of rooms must be a positive integer.\n"
          ]
        }
      ]
    }
  ]
}